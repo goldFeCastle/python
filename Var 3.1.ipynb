{
 "cells": [
  {
   "cell_type": "code",
   "execution_count": 1,
   "metadata": {},
   "outputs": [
    {
     "name": "stderr",
     "output_type": "stream",
     "text": [
      "Using TensorFlow backend.\n"
     ]
    }
   ],
   "source": [
    "import os\n",
    "import numpy as np\n",
    "import keras\n",
    "import matplotlib.pyplot as plt\n",
    "\n",
    "from skimage.transform import resize\n",
    "from keras.models import Model\n",
    "from keras import layers, models\n",
    "from keras import backend as K"
   ]
  },
  {
   "cell_type": "code",
   "execution_count": 2,
   "metadata": {},
   "outputs": [],
   "source": [
    "K.set_image_data_format('channels_last')  # TF dimension ordering in this code\n",
    "\n",
    "create_image_rows = 420\n",
    "create_image_cols = 580\n",
    "\n",
    "smooth = 1.0"
   ]
  },
  {
   "cell_type": "code",
   "execution_count": 3,
   "metadata": {},
   "outputs": [],
   "source": [
    "image_t = np.load('./image_T.npy')\n",
    "mask_t = np.load('./mask_T.npy')\n",
    "\n",
    "suffle_seed = 42"
   ]
  },
  {
   "cell_type": "code",
   "execution_count": 4,
   "metadata": {},
   "outputs": [],
   "source": [
    "train_image_rows = 96\n",
    "train_image_cols = 96\n",
    "\n",
    "def preprocess(imgs):\n",
    "    imgs_p = np.ndarray(\n",
    "        (imgs.shape[0], train_image_rows, train_image_cols), dtype=np.uint8)\n",
    "    for i in range(imgs.shape[0]):\n",
    "        imgs_p[i] = resize(\n",
    "            imgs[i], (train_image_rows, train_image_cols), preserve_range=True)\n",
    "\n",
    "    imgs_p = imgs_p[..., np.newaxis]\n",
    "    return imgs_p"
   ]
  },
  {
   "cell_type": "code",
   "execution_count": 5,
   "metadata": {},
   "outputs": [
    {
     "name": "stderr",
     "output_type": "stream",
     "text": [
      "e:\\program files\\python36\\lib\\site-packages\\skimage\\transform\\_warps.py:105: UserWarning: The default mode, 'constant', will be changed to 'reflect' in skimage 0.15.\n",
      "  warn(\"The default mode, 'constant', will be changed to 'reflect' in \"\n",
      "e:\\program files\\python36\\lib\\site-packages\\skimage\\transform\\_warps.py:110: UserWarning: Anti-aliasing will be enabled by default in skimage 0.15 to avoid aliasing artifacts when down-sampling images.\n",
      "  warn(\"Anti-aliasing will be enabled by default in skimage 0.15 to \"\n"
     ]
    }
   ],
   "source": [
    "image_c = preprocess(image_t)\n",
    "mask_c = preprocess(mask_t)\n",
    "\n",
    "image_c = image_c.astype('float32')\n",
    "\n",
    "mean = np.mean(image_c)  # mean for data centering\n",
    "std = np.std(image_c)  # std for data normalization\n",
    "\n",
    "image_c -= mean\n",
    "image_c /= 75\n",
    "\n",
    "mask_c = mask_c .astype('float32')\n",
    "mask_c /= 255.  # scale masks to [0, 1]"
   ]
  },
  {
   "cell_type": "code",
   "execution_count": 6,
   "metadata": {},
   "outputs": [],
   "source": [
    "def dice_coef(y_true, y_pred):\n",
    "    y_true_f = K.flatten(y_true)\n",
    "    y_pred_f = K.flatten(y_pred)\n",
    "    intersection = K.sum(y_true_f * y_pred_f)\n",
    "    return (2. * intersection + smooth) / (K.sum(y_true_f) + K.sum(y_pred_f) + smooth)\n",
    "\n",
    "def dice_coef_loss(y_true, y_pred):\n",
    "    return -dice_coef(y_true, y_pred)"
   ]
  },
  {
   "cell_type": "code",
   "execution_count": 7,
   "metadata": {},
   "outputs": [],
   "source": [
    "def get_unet():\n",
    "    inputs = layers.Input((train_image_rows, train_image_cols, 1))\n",
    "\n",
    "    conv0_1 = layers.DepthwiseConv2D(32, 2, padding='same')(inputs)\n",
    "    conv0_1 = layers.BatchNormalization()(conv0_1)\n",
    "    conv0_1 = layers.Activation('relu')(conv0_1)\n",
    "    conv0_2 = layers.Conv2D(32, 4, padding='same')(inputs)\n",
    "    conv0_2 = layers.BatchNormalization()(conv0_2)\n",
    "    conv0_2 = layers.Activation('relu')(conv0_2)\n",
    "    pool0_1 = layers.MaxPool2D(pool_size=(2, 2))(conv0_2)\n",
    "    pool0_1 = layers.Conv2D(1, 1, padding='same')(pool0_1)\n",
    "    pool0_2 = layers.merge.add([conv0_1, pool0_1])\n",
    "\n",
    "    conv1_1 = layers.DepthwiseConv2D(64, 2, padding='same')(pool0_2)\n",
    "    conv1_1 = layers.BatchNormalization()(conv1_1)\n",
    "    conv1_1 = layers.Activation('relu')(conv1_1)\n",
    "    conv1_2 = layers.Conv2D(64, 4, padding='same')(pool0_2)\n",
    "    conv1_2 = layers.BatchNormalization()(conv1_2)\n",
    "    conv1_2 = layers.Activation('relu')(conv1_2)\n",
    "    pool1_1 = layers.MaxPool2D(pool_size=(2, 2))(conv1_2)\n",
    "    pool1_1 = layers.Conv2D(1, 1, padding='same')(pool1_1)\n",
    "    pool1_2 = layers.merge.add([conv1_1, pool1_1])\n",
    "\n",
    "    conv2_1 = layers.DepthwiseConv2D(128, 2, padding='same')(pool1_2)\n",
    "    conv2_1 = layers.BatchNormalization()(conv2_1)\n",
    "    conv2_1 = layers.Activation('relu')(conv2_1)\n",
    "    conv2_2 = layers.Conv2D(128, 4, padding='same')(pool1_2)\n",
    "    conv2_2 = layers.BatchNormalization()(conv2_2)\n",
    "    conv2_2 = layers.Activation('relu')(conv2_2)\n",
    "    pool2_1 = layers.MaxPool2D(pool_size=(2, 2))(conv2_2)\n",
    "    pool2_1 = layers.Conv2D(1, 1, padding='same')(pool2_1)\n",
    "    pool2_2 = layers.merge.add([conv2_1, pool2_1])\n",
    "\n",
    "    conv3_1 = layers.DepthwiseConv2D(256, 2, padding='same')(pool2_2)\n",
    "    conv3_1 = layers.BatchNormalization()(conv3_1)\n",
    "    conv3_1 = layers.Activation('relu')(conv3_1)\n",
    "    conv3_2 = layers.Conv2D(256, 4, padding='same')(pool2_2)\n",
    "    conv3_2 = layers.BatchNormalization()(conv3_2)\n",
    "    conv3_2 = layers.Activation('relu')(conv3_2)\n",
    "    pool3_1 = layers.MaxPool2D(pool_size=(2, 2))(conv3_2)\n",
    "    pool3_1 = layers.Conv2D(1, 1, padding='same')(pool3_1)\n",
    "    pool3_2 = layers.merge.add([conv3_1, pool3_1])\n",
    "\n",
    "    conv4 = layers.Conv2D(1, 5, activation='relu', padding='same')(pool3_2)\n",
    "    conv4 = layers.Conv2D(1, 5, activation='relu', padding='same')(conv4)\n",
    "\n",
    "    up5 = layers.Conv2DTranspose(128, 3, strides=(\n",
    "        2, 2), activation='relu', padding='same')(conv4)\n",
    "    merge5 = layers.concatenate([conv3_2, up5])\n",
    "    conv5 = layers.Conv2D(128, 3, activation='relu', padding='same')(merge5)\n",
    "    conv5 = layers.Conv2D(128, 3, activation='relu', padding='same')(conv5)\n",
    "\n",
    "    up6 = layers.Conv2DTranspose(64, 3, strides=(\n",
    "        2, 2), activation='relu', padding='same')(conv5)\n",
    "    merge6 = layers.concatenate([conv2_2, up6])\n",
    "    conv6 = layers.Conv2D(64, 3, activation='relu', padding='same')(merge6)\n",
    "    conv6 = layers.Conv2D(64, 3, activation='relu', padding='same')(conv6)\n",
    "\n",
    "    up7 = layers.Conv2DTranspose(32, 3, strides=(\n",
    "        2, 2), activation='relu', padding='same')(conv6)\n",
    "    merge7 = layers.concatenate([conv1_2, up7])\n",
    "    conv7 = layers.Conv2D(32, 3, activation='relu', padding='same')(merge7)\n",
    "    conv7 = layers.Conv2D(32, 3, activation='relu', padding='same')(conv7)\n",
    "\n",
    "    up8 = layers.Conv2DTranspose(16, 3, strides=(\n",
    "        2, 2), activation='relu', padding='same')(conv7)\n",
    "    merge8 = layers.concatenate([conv0_2, up8])\n",
    "    conv8 = layers.Conv2D(16, 3, activation='relu', padding='same')(merge8)\n",
    "    conv8 = layers.Conv2D(16, 3, activation='relu', padding='same')(conv8)\n",
    "\n",
    "    conv8 = layers.Conv2D(1, 1, activation='sigmoid', padding='same')(conv8)\n",
    "\n",
    "    model = Model(inputs=[inputs], outputs=[conv8])\n",
    "\n",
    "    model.compile(optimizer=keras.optimizers.Adam(lr=0.00001),\n",
    "                  loss=dice_coef_loss, metrics=[dice_coef])\n",
    "\n",
    "    print((model.summary()))\n",
    "\n",
    "    return model"
   ]
  },
  {
   "cell_type": "code",
   "execution_count": 8,
   "metadata": {},
   "outputs": [
    {
     "name": "stdout",
     "output_type": "stream",
     "text": [
      "WARNING:tensorflow:From e:\\program files\\python36\\lib\\site-packages\\tensorflow\\python\\framework\\op_def_library.py:263: colocate_with (from tensorflow.python.framework.ops) is deprecated and will be removed in a future version.\n",
      "Instructions for updating:\n",
      "Colocations handled automatically by placer.\n",
      "__________________________________________________________________________________________________\n",
      "Layer (type)                    Output Shape         Param #     Connected to                     \n",
      "==================================================================================================\n",
      "input_1 (InputLayer)            (None, 96, 96, 1)    0                                            \n",
      "__________________________________________________________________________________________________\n",
      "conv2d_1 (Conv2D)               (None, 96, 96, 32)   544         input_1[0][0]                    \n",
      "__________________________________________________________________________________________________\n",
      "batch_normalization_2 (BatchNor (None, 96, 96, 32)   128         conv2d_1[0][0]                   \n",
      "__________________________________________________________________________________________________\n",
      "activation_2 (Activation)       (None, 96, 96, 32)   0           batch_normalization_2[0][0]      \n",
      "__________________________________________________________________________________________________\n",
      "depthwise_conv2d_1 (DepthwiseCo (None, 48, 48, 1)    1025        input_1[0][0]                    \n",
      "__________________________________________________________________________________________________\n",
      "batch_normalization_1 (BatchNor (None, 48, 48, 1)    4           depthwise_conv2d_1[0][0]         \n",
      "__________________________________________________________________________________________________\n",
      "max_pooling2d_1 (MaxPooling2D)  (None, 48, 48, 32)   0           activation_2[0][0]               \n",
      "__________________________________________________________________________________________________\n",
      "activation_1 (Activation)       (None, 48, 48, 1)    0           batch_normalization_1[0][0]      \n",
      "__________________________________________________________________________________________________\n",
      "conv2d_2 (Conv2D)               (None, 48, 48, 1)    33          max_pooling2d_1[0][0]            \n",
      "__________________________________________________________________________________________________\n",
      "add_1 (Add)                     (None, 48, 48, 1)    0           activation_1[0][0]               \n",
      "                                                                 conv2d_2[0][0]                   \n",
      "__________________________________________________________________________________________________\n",
      "conv2d_3 (Conv2D)               (None, 48, 48, 64)   1088        add_1[0][0]                      \n",
      "__________________________________________________________________________________________________\n",
      "batch_normalization_4 (BatchNor (None, 48, 48, 64)   256         conv2d_3[0][0]                   \n",
      "__________________________________________________________________________________________________\n",
      "activation_4 (Activation)       (None, 48, 48, 64)   0           batch_normalization_4[0][0]      \n",
      "__________________________________________________________________________________________________\n",
      "depthwise_conv2d_2 (DepthwiseCo (None, 24, 24, 1)    4097        add_1[0][0]                      \n",
      "__________________________________________________________________________________________________\n",
      "batch_normalization_3 (BatchNor (None, 24, 24, 1)    4           depthwise_conv2d_2[0][0]         \n",
      "__________________________________________________________________________________________________\n",
      "max_pooling2d_2 (MaxPooling2D)  (None, 24, 24, 64)   0           activation_4[0][0]               \n",
      "__________________________________________________________________________________________________\n",
      "activation_3 (Activation)       (None, 24, 24, 1)    0           batch_normalization_3[0][0]      \n",
      "__________________________________________________________________________________________________\n",
      "conv2d_4 (Conv2D)               (None, 24, 24, 1)    65          max_pooling2d_2[0][0]            \n",
      "__________________________________________________________________________________________________\n",
      "add_2 (Add)                     (None, 24, 24, 1)    0           activation_3[0][0]               \n",
      "                                                                 conv2d_4[0][0]                   \n",
      "__________________________________________________________________________________________________\n",
      "conv2d_5 (Conv2D)               (None, 24, 24, 128)  2176        add_2[0][0]                      \n",
      "__________________________________________________________________________________________________\n",
      "batch_normalization_6 (BatchNor (None, 24, 24, 128)  512         conv2d_5[0][0]                   \n",
      "__________________________________________________________________________________________________\n",
      "activation_6 (Activation)       (None, 24, 24, 128)  0           batch_normalization_6[0][0]      \n",
      "__________________________________________________________________________________________________\n",
      "depthwise_conv2d_3 (DepthwiseCo (None, 12, 12, 1)    16385       add_2[0][0]                      \n",
      "__________________________________________________________________________________________________\n",
      "batch_normalization_5 (BatchNor (None, 12, 12, 1)    4           depthwise_conv2d_3[0][0]         \n",
      "__________________________________________________________________________________________________\n",
      "max_pooling2d_3 (MaxPooling2D)  (None, 12, 12, 128)  0           activation_6[0][0]               \n",
      "__________________________________________________________________________________________________\n",
      "activation_5 (Activation)       (None, 12, 12, 1)    0           batch_normalization_5[0][0]      \n",
      "__________________________________________________________________________________________________\n",
      "conv2d_6 (Conv2D)               (None, 12, 12, 1)    129         max_pooling2d_3[0][0]            \n",
      "__________________________________________________________________________________________________\n",
      "add_3 (Add)                     (None, 12, 12, 1)    0           activation_5[0][0]               \n",
      "                                                                 conv2d_6[0][0]                   \n",
      "__________________________________________________________________________________________________\n",
      "conv2d_7 (Conv2D)               (None, 12, 12, 256)  4352        add_3[0][0]                      \n",
      "__________________________________________________________________________________________________\n",
      "batch_normalization_8 (BatchNor (None, 12, 12, 256)  1024        conv2d_7[0][0]                   \n",
      "__________________________________________________________________________________________________\n",
      "activation_8 (Activation)       (None, 12, 12, 256)  0           batch_normalization_8[0][0]      \n",
      "__________________________________________________________________________________________________\n",
      "depthwise_conv2d_4 (DepthwiseCo (None, 6, 6, 1)      65537       add_3[0][0]                      \n",
      "__________________________________________________________________________________________________\n",
      "batch_normalization_7 (BatchNor (None, 6, 6, 1)      4           depthwise_conv2d_4[0][0]         \n",
      "__________________________________________________________________________________________________\n",
      "max_pooling2d_4 (MaxPooling2D)  (None, 6, 6, 256)    0           activation_8[0][0]               \n",
      "__________________________________________________________________________________________________\n",
      "activation_7 (Activation)       (None, 6, 6, 1)      0           batch_normalization_7[0][0]      \n",
      "__________________________________________________________________________________________________\n",
      "conv2d_8 (Conv2D)               (None, 6, 6, 1)      257         max_pooling2d_4[0][0]            \n",
      "__________________________________________________________________________________________________\n",
      "add_4 (Add)                     (None, 6, 6, 1)      0           activation_7[0][0]               \n",
      "                                                                 conv2d_8[0][0]                   \n",
      "__________________________________________________________________________________________________\n",
      "conv2d_9 (Conv2D)               (None, 6, 6, 1)      26          add_4[0][0]                      \n",
      "__________________________________________________________________________________________________\n",
      "conv2d_10 (Conv2D)              (None, 6, 6, 1)      26          conv2d_9[0][0]                   \n",
      "__________________________________________________________________________________________________\n",
      "conv2d_transpose_1 (Conv2DTrans (None, 12, 12, 128)  1280        conv2d_10[0][0]                  \n",
      "__________________________________________________________________________________________________\n",
      "concatenate_1 (Concatenate)     (None, 12, 12, 384)  0           activation_8[0][0]               \n",
      "                                                                 conv2d_transpose_1[0][0]         \n",
      "__________________________________________________________________________________________________\n",
      "conv2d_11 (Conv2D)              (None, 12, 12, 128)  442496      concatenate_1[0][0]              \n",
      "__________________________________________________________________________________________________\n",
      "conv2d_12 (Conv2D)              (None, 12, 12, 128)  147584      conv2d_11[0][0]                  \n",
      "__________________________________________________________________________________________________\n",
      "conv2d_transpose_2 (Conv2DTrans (None, 24, 24, 64)   73792       conv2d_12[0][0]                  \n",
      "__________________________________________________________________________________________________\n",
      "concatenate_2 (Concatenate)     (None, 24, 24, 192)  0           activation_6[0][0]               \n",
      "                                                                 conv2d_transpose_2[0][0]         \n",
      "__________________________________________________________________________________________________\n",
      "conv2d_13 (Conv2D)              (None, 24, 24, 64)   110656      concatenate_2[0][0]              \n",
      "__________________________________________________________________________________________________\n",
      "conv2d_14 (Conv2D)              (None, 24, 24, 64)   36928       conv2d_13[0][0]                  \n",
      "__________________________________________________________________________________________________\n",
      "conv2d_transpose_3 (Conv2DTrans (None, 48, 48, 32)   18464       conv2d_14[0][0]                  \n",
      "__________________________________________________________________________________________________\n",
      "concatenate_3 (Concatenate)     (None, 48, 48, 96)   0           activation_4[0][0]               \n",
      "                                                                 conv2d_transpose_3[0][0]         \n",
      "__________________________________________________________________________________________________\n",
      "conv2d_15 (Conv2D)              (None, 48, 48, 32)   27680       concatenate_3[0][0]              \n",
      "__________________________________________________________________________________________________\n",
      "conv2d_16 (Conv2D)              (None, 48, 48, 32)   9248        conv2d_15[0][0]                  \n",
      "__________________________________________________________________________________________________\n",
      "conv2d_transpose_4 (Conv2DTrans (None, 96, 96, 16)   4624        conv2d_16[0][0]                  \n",
      "__________________________________________________________________________________________________\n",
      "concatenate_4 (Concatenate)     (None, 96, 96, 48)   0           activation_2[0][0]               \n",
      "                                                                 conv2d_transpose_4[0][0]         \n",
      "__________________________________________________________________________________________________\n",
      "conv2d_17 (Conv2D)              (None, 96, 96, 16)   6928        concatenate_4[0][0]              \n",
      "__________________________________________________________________________________________________\n",
      "conv2d_18 (Conv2D)              (None, 96, 96, 16)   2320        conv2d_17[0][0]                  \n",
      "__________________________________________________________________________________________________\n",
      "conv2d_19 (Conv2D)              (None, 96, 96, 1)    17          conv2d_18[0][0]                  \n",
      "==================================================================================================\n",
      "Total params: 979,693\n",
      "Trainable params: 978,725\n",
      "Non-trainable params: 968\n",
      "__________________________________________________________________________________________________\n",
      "None\n"
     ]
    }
   ],
   "source": [
    "unet = get_unet()\n",
    "filepath = 'weights2.h5'\n",
    "model_checkpoint = keras.callbacks.ModelCheckpoint(filepath, monitor='val_loss', save_best_only=True)"
   ]
  },
  {
   "cell_type": "code",
   "execution_count": 14,
   "metadata": {},
   "outputs": [],
   "source": [
    "image_train = image_c[0:1858]\n",
    "image_valid = image_c[1858:]\n",
    "\n",
    "mask_train = mask_c[0:1858]\n",
    "mask_valid = mask_c[1858:]"
   ]
  },
  {
   "cell_type": "code",
   "execution_count": 10,
   "metadata": {
    "scrolled": true
   },
   "outputs": [
    {
     "name": "stdout",
     "output_type": "stream",
     "text": [
      "------------------------------\n",
      "Fitting model...\n",
      "------------------------------\n",
      "Train on 1974 samples, validate on 349 samples\n",
      "Epoch 1/200\n",
      "1974/1974 [==============================] - 27s 14ms/step - loss: -0.0565 - dice_coef: 0.0565 - val_loss: -0.0588 - val_dice_coef: 0.0588\n",
      "Epoch 2/200\n",
      "1974/1974 [==============================] - 4s 2ms/step - loss: -0.0585 - dice_coef: 0.0585 - val_loss: -0.0617 - val_dice_coef: 0.0617\n",
      "Epoch 3/200\n",
      "1974/1974 [==============================] - 4s 2ms/step - loss: -0.0626 - dice_coef: 0.0626 - val_loss: -0.0702 - val_dice_coef: 0.0702\n",
      "Epoch 4/200\n",
      "1974/1974 [==============================] - 4s 2ms/step - loss: -0.0746 - dice_coef: 0.0746 - val_loss: -0.0878 - val_dice_coef: 0.0878\n",
      "Epoch 5/200\n",
      "1974/1974 [==============================] - 4s 2ms/step - loss: -0.0900 - dice_coef: 0.0900 - val_loss: -0.1029 - val_dice_coef: 0.1029\n",
      "Epoch 6/200\n",
      "1974/1974 [==============================] - 4s 2ms/step - loss: -0.1049 - dice_coef: 0.1049 - val_loss: -0.1184 - val_dice_coef: 0.1184\n",
      "Epoch 7/200\n",
      "1974/1974 [==============================] - 4s 2ms/step - loss: -0.1269 - dice_coef: 0.1269 - val_loss: -0.1625 - val_dice_coef: 0.1625\n",
      "Epoch 8/200\n",
      "1974/1974 [==============================] - 4s 2ms/step - loss: -0.3101 - dice_coef: 0.3101 - val_loss: -0.4839 - val_dice_coef: 0.4839\n",
      "Epoch 9/200\n",
      "1974/1974 [==============================] - 4s 2ms/step - loss: -0.5404 - dice_coef: 0.5404 - val_loss: -0.5563 - val_dice_coef: 0.5563\n",
      "Epoch 10/200\n",
      "1974/1974 [==============================] - 4s 2ms/step - loss: -0.5987 - dice_coef: 0.5987 - val_loss: -0.5831 - val_dice_coef: 0.5831\n",
      "Epoch 11/200\n",
      "1974/1974 [==============================] - 4s 2ms/step - loss: -0.6275 - dice_coef: 0.6275 - val_loss: -0.5918 - val_dice_coef: 0.5918\n",
      "Epoch 12/200\n",
      "1974/1974 [==============================] - 4s 2ms/step - loss: -0.6448 - dice_coef: 0.6448 - val_loss: -0.6041 - val_dice_coef: 0.6041\n",
      "Epoch 13/200\n",
      "1974/1974 [==============================] - 4s 2ms/step - loss: -0.6531 - dice_coef: 0.6531 - val_loss: -0.6077 - val_dice_coef: 0.6077\n",
      "Epoch 14/200\n",
      "1974/1974 [==============================] - 4s 2ms/step - loss: -0.6623 - dice_coef: 0.6623 - val_loss: -0.6069 - val_dice_coef: 0.6069\n",
      "Epoch 15/200\n",
      "1974/1974 [==============================] - 4s 2ms/step - loss: -0.6695 - dice_coef: 0.6695 - val_loss: -0.6121 - val_dice_coef: 0.6121\n",
      "Epoch 16/200\n",
      "1974/1974 [==============================] - 4s 2ms/step - loss: -0.6751 - dice_coef: 0.6751 - val_loss: -0.6138 - val_dice_coef: 0.6138\n",
      "Epoch 17/200\n",
      "1974/1974 [==============================] - 4s 2ms/step - loss: -0.6789 - dice_coef: 0.6789 - val_loss: -0.6134 - val_dice_coef: 0.6134\n",
      "Epoch 18/200\n",
      "1974/1974 [==============================] - 4s 2ms/step - loss: -0.6842 - dice_coef: 0.6842 - val_loss: -0.6160 - val_dice_coef: 0.6160\n",
      "Epoch 19/200\n",
      "1974/1974 [==============================] - 4s 2ms/step - loss: -0.6882 - dice_coef: 0.6882 - val_loss: -0.6186 - val_dice_coef: 0.6186\n",
      "Epoch 20/200\n",
      "1974/1974 [==============================] - 4s 2ms/step - loss: -0.6916 - dice_coef: 0.6916 - val_loss: -0.6143 - val_dice_coef: 0.6143\n",
      "Epoch 21/200\n",
      "1974/1974 [==============================] - 4s 2ms/step - loss: -0.6945 - dice_coef: 0.6945 - val_loss: -0.6201 - val_dice_coef: 0.6201\n",
      "Epoch 22/200\n",
      "1974/1974 [==============================] - 4s 2ms/step - loss: -0.6963 - dice_coef: 0.6963 - val_loss: -0.6042 - val_dice_coef: 0.6042\n",
      "Epoch 23/200\n",
      "1974/1974 [==============================] - 4s 2ms/step - loss: -0.6999 - dice_coef: 0.6999 - val_loss: -0.6185 - val_dice_coef: 0.6185\n",
      "Epoch 24/200\n",
      "1974/1974 [==============================] - 4s 2ms/step - loss: -0.7020 - dice_coef: 0.7020 - val_loss: -0.6166 - val_dice_coef: 0.6166\n",
      "Epoch 25/200\n",
      "1974/1974 [==============================] - 4s 2ms/step - loss: -0.7054 - dice_coef: 0.7054 - val_loss: -0.6147 - val_dice_coef: 0.6147\n",
      "Epoch 26/200\n",
      "1974/1974 [==============================] - 4s 2ms/step - loss: -0.7069 - dice_coef: 0.7069 - val_loss: -0.6091 - val_dice_coef: 0.6091\n",
      "Epoch 27/200\n",
      "1974/1974 [==============================] - 4s 2ms/step - loss: -0.7095 - dice_coef: 0.7095 - val_loss: -0.6151 - val_dice_coef: 0.6151\n",
      "Epoch 28/200\n",
      "1974/1974 [==============================] - 4s 2ms/step - loss: -0.7118 - dice_coef: 0.7118 - val_loss: -0.6193 - val_dice_coef: 0.6193\n",
      "Epoch 29/200\n",
      "1974/1974 [==============================] - 4s 2ms/step - loss: -0.7135 - dice_coef: 0.7135 - val_loss: -0.6176 - val_dice_coef: 0.6176\n",
      "Epoch 30/200\n",
      "1974/1974 [==============================] - 4s 2ms/step - loss: -0.7153 - dice_coef: 0.7153 - val_loss: -0.6152 - val_dice_coef: 0.6152\n",
      "Epoch 31/200\n",
      "1974/1974 [==============================] - 4s 2ms/step - loss: -0.7171 - dice_coef: 0.7171 - val_loss: -0.6147 - val_dice_coef: 0.6147\n",
      "Epoch 00031: early stopping\n",
      "------------------------------\n",
      "Done !!\n",
      "------------------------------\n"
     ]
    }
   ],
   "source": [
    "print(('-'*30))\n",
    "print('Fitting model...')\n",
    "print(('-'*30))\n",
    "from keras.callbacks import EarlyStopping, TensorBoard\n",
    "early_stopping = EarlyStopping(monitor='val_loss', min_delta=0, patience=10, verbose=1, mode='auto')\n",
    "tb_hist = TensorBoard(log_dir='./logs', \n",
    "                      histogram_freq=0, write_grads=True, write_images=True)\n",
    "\n",
    "history = unet.fit(image_c,mask_c , epochs=200, verbose=1, shuffle=True,validation_split=0.15, \n",
    "                   batch_size=32,callbacks=[tb_hist,early_stopping,model_checkpoint])\n",
    "\n",
    "print(('-'*30))\n",
    "print('Done !!')\n",
    "print(('-'*30))"
   ]
  },
  {
   "cell_type": "code",
   "execution_count": 10,
   "metadata": {},
   "outputs": [],
   "source": [
    "train_datagen = keras.preprocessing.image.ImageDataGenerator(\n",
    "    featurewise_center=True,\n",
    "    zca_whitening=True,\n",
    "    zca_epsilon=0.99,\n",
    "    width_shift_range=0.1,\n",
    "    height_shift_range=0.1,\n",
    "    rotation_range=10,\n",
    "    fill_mode='reflect',\n",
    "    horizontal_flip=True)\n",
    "\n",
    "mask_datagen = keras.preprocessing.image.ImageDataGenerator(\n",
    "    featurewise_center=True,\n",
    "    width_shift_range=0.1,\n",
    "    height_shift_range=0.1,\n",
    "    rotation_range=10,\n",
    "    fill_mode='reflect',\n",
    "    horizontal_flip=True)\n",
    "\n",
    "test_datagen = keras.preprocessing.image.ImageDataGenerator()"
   ]
  },
  {
   "cell_type": "code",
   "execution_count": 11,
   "metadata": {},
   "outputs": [
    {
     "name": "stdout",
     "output_type": "stream",
     "text": [
      "==============================\n",
      "Done train fit\n",
      "==============================\n",
      "==============================\n",
      "Done mask fit\n",
      "==============================\n"
     ]
    }
   ],
   "source": [
    "train_datagen.fit(image_c, augment=True, seed=1)\n",
    "\n",
    "print(('='*30))\n",
    "print('Done train fit')\n",
    "print(('='*30))\n",
    "\n",
    "mask_datagen.fit(mask_c, augment=True, seed=1)\n",
    "\n",
    "print(('='*30))\n",
    "print('Done mask fit')\n",
    "print(('='*30))"
   ]
  },
  {
   "cell_type": "code",
   "execution_count": 13,
   "metadata": {
    "scrolled": true
   },
   "outputs": [
    {
     "name": "stdout",
     "output_type": "stream",
     "text": [
      "__________________________________________________________________________________________________\n",
      "Layer (type)                    Output Shape         Param #     Connected to                     \n",
      "==================================================================================================\n",
      "input_2 (InputLayer)            (None, 96, 96, 1)    0                                            \n",
      "__________________________________________________________________________________________________\n",
      "conv2d_20 (Conv2D)              (None, 96, 96, 32)   544         input_2[0][0]                    \n",
      "__________________________________________________________________________________________________\n",
      "batch_normalization_10 (BatchNo (None, 96, 96, 32)   128         conv2d_20[0][0]                  \n",
      "__________________________________________________________________________________________________\n",
      "activation_10 (Activation)      (None, 96, 96, 32)   0           batch_normalization_10[0][0]     \n",
      "__________________________________________________________________________________________________\n",
      "depthwise_conv2d_5 (DepthwiseCo (None, 48, 48, 1)    1025        input_2[0][0]                    \n",
      "__________________________________________________________________________________________________\n",
      "batch_normalization_9 (BatchNor (None, 48, 48, 1)    4           depthwise_conv2d_5[0][0]         \n",
      "__________________________________________________________________________________________________\n",
      "max_pooling2d_5 (MaxPooling2D)  (None, 48, 48, 32)   0           activation_10[0][0]              \n",
      "__________________________________________________________________________________________________\n",
      "activation_9 (Activation)       (None, 48, 48, 1)    0           batch_normalization_9[0][0]      \n",
      "__________________________________________________________________________________________________\n",
      "conv2d_21 (Conv2D)              (None, 48, 48, 1)    33          max_pooling2d_5[0][0]            \n",
      "__________________________________________________________________________________________________\n",
      "add_5 (Add)                     (None, 48, 48, 1)    0           activation_9[0][0]               \n",
      "                                                                 conv2d_21[0][0]                  \n",
      "__________________________________________________________________________________________________\n",
      "conv2d_22 (Conv2D)              (None, 48, 48, 64)   1088        add_5[0][0]                      \n",
      "__________________________________________________________________________________________________\n",
      "batch_normalization_12 (BatchNo (None, 48, 48, 64)   256         conv2d_22[0][0]                  \n",
      "__________________________________________________________________________________________________\n",
      "activation_12 (Activation)      (None, 48, 48, 64)   0           batch_normalization_12[0][0]     \n",
      "__________________________________________________________________________________________________\n",
      "depthwise_conv2d_6 (DepthwiseCo (None, 24, 24, 1)    4097        add_5[0][0]                      \n",
      "__________________________________________________________________________________________________\n",
      "batch_normalization_11 (BatchNo (None, 24, 24, 1)    4           depthwise_conv2d_6[0][0]         \n",
      "__________________________________________________________________________________________________\n",
      "max_pooling2d_6 (MaxPooling2D)  (None, 24, 24, 64)   0           activation_12[0][0]              \n",
      "__________________________________________________________________________________________________\n",
      "activation_11 (Activation)      (None, 24, 24, 1)    0           batch_normalization_11[0][0]     \n",
      "__________________________________________________________________________________________________\n",
      "conv2d_23 (Conv2D)              (None, 24, 24, 1)    65          max_pooling2d_6[0][0]            \n",
      "__________________________________________________________________________________________________\n",
      "add_6 (Add)                     (None, 24, 24, 1)    0           activation_11[0][0]              \n",
      "                                                                 conv2d_23[0][0]                  \n",
      "__________________________________________________________________________________________________\n",
      "conv2d_24 (Conv2D)              (None, 24, 24, 128)  2176        add_6[0][0]                      \n",
      "__________________________________________________________________________________________________\n",
      "batch_normalization_14 (BatchNo (None, 24, 24, 128)  512         conv2d_24[0][0]                  \n",
      "__________________________________________________________________________________________________\n",
      "activation_14 (Activation)      (None, 24, 24, 128)  0           batch_normalization_14[0][0]     \n",
      "__________________________________________________________________________________________________\n",
      "depthwise_conv2d_7 (DepthwiseCo (None, 12, 12, 1)    16385       add_6[0][0]                      \n",
      "__________________________________________________________________________________________________\n",
      "batch_normalization_13 (BatchNo (None, 12, 12, 1)    4           depthwise_conv2d_7[0][0]         \n",
      "__________________________________________________________________________________________________\n",
      "max_pooling2d_7 (MaxPooling2D)  (None, 12, 12, 128)  0           activation_14[0][0]              \n",
      "__________________________________________________________________________________________________\n",
      "activation_13 (Activation)      (None, 12, 12, 1)    0           batch_normalization_13[0][0]     \n",
      "__________________________________________________________________________________________________\n",
      "conv2d_25 (Conv2D)              (None, 12, 12, 1)    129         max_pooling2d_7[0][0]            \n",
      "__________________________________________________________________________________________________\n",
      "add_7 (Add)                     (None, 12, 12, 1)    0           activation_13[0][0]              \n",
      "                                                                 conv2d_25[0][0]                  \n",
      "__________________________________________________________________________________________________\n",
      "conv2d_26 (Conv2D)              (None, 12, 12, 256)  4352        add_7[0][0]                      \n",
      "__________________________________________________________________________________________________\n",
      "batch_normalization_16 (BatchNo (None, 12, 12, 256)  1024        conv2d_26[0][0]                  \n",
      "__________________________________________________________________________________________________\n",
      "activation_16 (Activation)      (None, 12, 12, 256)  0           batch_normalization_16[0][0]     \n",
      "__________________________________________________________________________________________________\n",
      "depthwise_conv2d_8 (DepthwiseCo (None, 6, 6, 1)      65537       add_7[0][0]                      \n",
      "__________________________________________________________________________________________________\n",
      "batch_normalization_15 (BatchNo (None, 6, 6, 1)      4           depthwise_conv2d_8[0][0]         \n",
      "__________________________________________________________________________________________________\n",
      "max_pooling2d_8 (MaxPooling2D)  (None, 6, 6, 256)    0           activation_16[0][0]              \n",
      "__________________________________________________________________________________________________\n",
      "activation_15 (Activation)      (None, 6, 6, 1)      0           batch_normalization_15[0][0]     \n",
      "__________________________________________________________________________________________________\n",
      "conv2d_27 (Conv2D)              (None, 6, 6, 1)      257         max_pooling2d_8[0][0]            \n",
      "__________________________________________________________________________________________________\n",
      "add_8 (Add)                     (None, 6, 6, 1)      0           activation_15[0][0]              \n",
      "                                                                 conv2d_27[0][0]                  \n",
      "__________________________________________________________________________________________________\n",
      "conv2d_28 (Conv2D)              (None, 6, 6, 1)      26          add_8[0][0]                      \n",
      "__________________________________________________________________________________________________\n",
      "conv2d_29 (Conv2D)              (None, 6, 6, 1)      26          conv2d_28[0][0]                  \n",
      "__________________________________________________________________________________________________\n",
      "conv2d_transpose_5 (Conv2DTrans (None, 12, 12, 128)  1280        conv2d_29[0][0]                  \n",
      "__________________________________________________________________________________________________\n",
      "concatenate_5 (Concatenate)     (None, 12, 12, 384)  0           activation_16[0][0]              \n",
      "                                                                 conv2d_transpose_5[0][0]         \n",
      "__________________________________________________________________________________________________\n",
      "conv2d_30 (Conv2D)              (None, 12, 12, 128)  442496      concatenate_5[0][0]              \n",
      "__________________________________________________________________________________________________\n",
      "conv2d_31 (Conv2D)              (None, 12, 12, 128)  147584      conv2d_30[0][0]                  \n",
      "__________________________________________________________________________________________________\n",
      "conv2d_transpose_6 (Conv2DTrans (None, 24, 24, 64)   73792       conv2d_31[0][0]                  \n",
      "__________________________________________________________________________________________________\n",
      "concatenate_6 (Concatenate)     (None, 24, 24, 192)  0           activation_14[0][0]              \n",
      "                                                                 conv2d_transpose_6[0][0]         \n",
      "__________________________________________________________________________________________________\n",
      "conv2d_32 (Conv2D)              (None, 24, 24, 64)   110656      concatenate_6[0][0]              \n",
      "__________________________________________________________________________________________________\n",
      "conv2d_33 (Conv2D)              (None, 24, 24, 64)   36928       conv2d_32[0][0]                  \n",
      "__________________________________________________________________________________________________\n",
      "conv2d_transpose_7 (Conv2DTrans (None, 48, 48, 32)   18464       conv2d_33[0][0]                  \n",
      "__________________________________________________________________________________________________\n",
      "concatenate_7 (Concatenate)     (None, 48, 48, 96)   0           activation_12[0][0]              \n",
      "                                                                 conv2d_transpose_7[0][0]         \n",
      "__________________________________________________________________________________________________\n",
      "conv2d_34 (Conv2D)              (None, 48, 48, 32)   27680       concatenate_7[0][0]              \n",
      "__________________________________________________________________________________________________\n",
      "conv2d_35 (Conv2D)              (None, 48, 48, 32)   9248        conv2d_34[0][0]                  \n",
      "__________________________________________________________________________________________________\n",
      "conv2d_transpose_8 (Conv2DTrans (None, 96, 96, 16)   4624        conv2d_35[0][0]                  \n",
      "__________________________________________________________________________________________________\n",
      "concatenate_8 (Concatenate)     (None, 96, 96, 48)   0           activation_10[0][0]              \n",
      "                                                                 conv2d_transpose_8[0][0]         \n",
      "__________________________________________________________________________________________________\n",
      "conv2d_36 (Conv2D)              (None, 96, 96, 16)   6928        concatenate_8[0][0]              \n",
      "__________________________________________________________________________________________________\n",
      "conv2d_37 (Conv2D)              (None, 96, 96, 16)   2320        conv2d_36[0][0]                  \n",
      "__________________________________________________________________________________________________\n",
      "conv2d_38 (Conv2D)              (None, 96, 96, 1)    17          conv2d_37[0][0]                  \n",
      "==================================================================================================\n",
      "Total params: 979,693\n",
      "Trainable params: 978,725\n",
      "Non-trainable params: 968\n",
      "__________________________________________________________________________________________________\n",
      "None\n"
     ]
    }
   ],
   "source": [
    "unet = get_unet()\n",
    "filepath = 'weights2.h5'\n",
    "model_checkpoint = keras.callbacks.ModelCheckpoint(filepath, monitor='val_loss', save_best_only=True)"
   ]
  },
  {
   "cell_type": "code",
   "execution_count": 15,
   "metadata": {},
   "outputs": [],
   "source": [
    "train_data = train_datagen.flow(image_train, mask_train,batch_size=32,seed=suffle_seed )\n",
    "valid_data = test_datagen.flow(image_valid, mask_valid,batch_size=32,seed=suffle_seed )"
   ]
  },
  {
   "cell_type": "code",
   "execution_count": 16,
   "metadata": {},
   "outputs": [],
   "source": [
    "train_img = np.zeros([10240,96,96,1])\n",
    "train_msk = np.zeros([10240,96,96,1])"
   ]
  },
  {
   "cell_type": "code",
   "execution_count": 17,
   "metadata": {},
   "outputs": [
    {
     "name": "stdout",
     "output_type": "stream",
     "text": [
      "Done train_img = 0\n",
      "Done train_img = 1000\n",
      "Done train_img = 2000\n",
      "Done train_img = 3000\n",
      "Done train_img = 4000\n",
      "Done train_img = 5000\n",
      "Done train_img = 6000\n",
      "Done train_img = 7000\n",
      "Done train_img = 8000\n",
      "Done train_img = 9000\n",
      "Done train_img = 10000\n",
      "------------------------------\n",
      "Done train fit\n",
      "------------------------------\n",
      "Done train_mask = 0\n",
      "Done train_mask = 1000\n",
      "Done train_mask = 2000\n",
      "Done train_mask = 3000\n",
      "Done train_mask = 4000\n",
      "Done train_mask = 5000\n",
      "Done train_mask = 6000\n",
      "Done train_mask = 7000\n",
      "Done train_mask = 8000\n",
      "Done train_mask = 9000\n",
      "Done train_mask = 10000\n",
      "------------------------------\n",
      "Done test fit\n",
      "------------------------------\n"
     ]
    }
   ],
   "source": [
    "i = 0\n",
    "for batch in train_datagen.flow(image_c, batch_size=1, seed=suffle_seed):\n",
    "    train_img[i] = batch\n",
    "    i += 1\n",
    "    if i < 10239 and i % 1000 == 1:\n",
    "        print('Done train_img = {}'.format(i-1))\n",
    "    elif i > 10239:\n",
    "        break\n",
    "\n",
    "#np.save('/content/gdrive/My Drive/Colab Notebooks/img_aug', train_img)\n",
    "print(('-'*30))\n",
    "print('Done train fit')\n",
    "print(('-'*30))\n",
    "\n",
    "i = 0\n",
    "for batch in test_datagen.flow(mask_c, batch_size=1, seed=suffle_seed):\n",
    "    train_msk[i] = batch\n",
    "    i += 1\n",
    "    if i < 10239 and i % 1000 == 1:\n",
    "        print('Done train_mask = {}'.format(i-1))\n",
    "    elif i > 10239:\n",
    "        break\n",
    "\n",
    "#np.save('/content/gdrive/My Drive/Colab Notebooks/mask_aug', train_msk)\n",
    "print(('-'*30))\n",
    "print('Done test fit')\n",
    "print(('-'*30))"
   ]
  },
  {
   "cell_type": "code",
   "execution_count": 18,
   "metadata": {},
   "outputs": [],
   "source": [
    "del image_t\n",
    "del mask_t"
   ]
  },
  {
   "cell_type": "code",
   "execution_count": 19,
   "metadata": {
    "scrolled": true
   },
   "outputs": [
    {
     "name": "stdout",
     "output_type": "stream",
     "text": [
      "------------------------------\n",
      "Fitting model...\n",
      "------------------------------\n",
      "Train on 8704 samples, validate on 1536 samples\n",
      "Epoch 1/200\n",
      "8704/8704 [==============================] - 26s 3ms/step - loss: -0.0612 - dice_coef: 0.0612 - val_loss: -0.0796 - val_dice_coef: 0.0796\n",
      "Epoch 2/200\n",
      "8704/8704 [==============================] - 20s 2ms/step - loss: -0.1258 - dice_coef: 0.1258 - val_loss: -0.2827 - val_dice_coef: 0.2827\n",
      "Epoch 3/200\n",
      "8704/8704 [==============================] - 20s 2ms/step - loss: -0.4189 - dice_coef: 0.4189 - val_loss: -0.4462 - val_dice_coef: 0.4462\n",
      "Epoch 4/200\n",
      "8704/8704 [==============================] - 20s 2ms/step - loss: -0.4500 - dice_coef: 0.4500 - val_loss: -0.4575 - val_dice_coef: 0.4575\n",
      "Epoch 5/200\n",
      "8704/8704 [==============================] - 20s 2ms/step - loss: -0.4582 - dice_coef: 0.4582 - val_loss: -0.4599 - val_dice_coef: 0.4599\n",
      "Epoch 6/200\n",
      "8704/8704 [==============================] - 20s 2ms/step - loss: -0.4633 - dice_coef: 0.4633 - val_loss: -0.4652 - val_dice_coef: 0.4652\n",
      "Epoch 7/200\n",
      "8704/8704 [==============================] - 20s 2ms/step - loss: -0.4675 - dice_coef: 0.4675 - val_loss: -0.4707 - val_dice_coef: 0.4707\n",
      "Epoch 8/200\n",
      "8704/8704 [==============================] - 20s 2ms/step - loss: -0.4703 - dice_coef: 0.4703 - val_loss: -0.4651 - val_dice_coef: 0.4651\n",
      "Epoch 9/200\n",
      "8704/8704 [==============================] - 20s 2ms/step - loss: -0.4734 - dice_coef: 0.4734 - val_loss: -0.4732 - val_dice_coef: 0.4732\n",
      "Epoch 10/200\n",
      "8704/8704 [==============================] - 21s 2ms/step - loss: -0.4753 - dice_coef: 0.4753 - val_loss: -0.4766 - val_dice_coef: 0.4766\n",
      "Epoch 11/200\n",
      "8704/8704 [==============================] - 21s 2ms/step - loss: -0.4779 - dice_coef: 0.4779 - val_loss: -0.4773 - val_dice_coef: 0.4773\n",
      "Epoch 12/200\n",
      "8704/8704 [==============================] - 21s 2ms/step - loss: -0.4797 - dice_coef: 0.4797 - val_loss: -0.4799 - val_dice_coef: 0.4799\n",
      "Epoch 13/200\n",
      "8704/8704 [==============================] - 21s 2ms/step - loss: -0.4818 - dice_coef: 0.4818 - val_loss: -0.4802 - val_dice_coef: 0.4802\n",
      "Epoch 14/200\n",
      "8704/8704 [==============================] - 21s 2ms/step - loss: -0.4840 - dice_coef: 0.4840 - val_loss: -0.4818 - val_dice_coef: 0.4818\n",
      "Epoch 15/200\n",
      "8704/8704 [==============================] - 21s 2ms/step - loss: -0.4856 - dice_coef: 0.4856 - val_loss: -0.4831 - val_dice_coef: 0.4831\n",
      "Epoch 16/200\n",
      "8704/8704 [==============================] - 21s 2ms/step - loss: -0.4872 - dice_coef: 0.4872 - val_loss: -0.4827 - val_dice_coef: 0.4827\n",
      "Epoch 17/200\n",
      "8704/8704 [==============================] - 21s 2ms/step - loss: -0.4891 - dice_coef: 0.4891 - val_loss: -0.4849 - val_dice_coef: 0.4849\n",
      "Epoch 18/200\n",
      "8704/8704 [==============================] - 21s 2ms/step - loss: -0.4907 - dice_coef: 0.4907 - val_loss: -0.4850 - val_dice_coef: 0.4850\n",
      "Epoch 19/200\n",
      "8704/8704 [==============================] - 21s 2ms/step - loss: -0.4925 - dice_coef: 0.4925 - val_loss: -0.4855 - val_dice_coef: 0.4855\n",
      "Epoch 20/200\n",
      "8704/8704 [==============================] - 21s 2ms/step - loss: -0.4944 - dice_coef: 0.4944 - val_loss: -0.4876 - val_dice_coef: 0.4876\n",
      "Epoch 21/200\n",
      "8704/8704 [==============================] - 21s 2ms/step - loss: -0.4960 - dice_coef: 0.4960 - val_loss: -0.4882 - val_dice_coef: 0.4882\n",
      "Epoch 22/200\n",
      "8704/8704 [==============================] - 21s 2ms/step - loss: -0.4970 - dice_coef: 0.4970 - val_loss: -0.4883 - val_dice_coef: 0.4883\n",
      "Epoch 23/200\n",
      "8704/8704 [==============================] - 21s 2ms/step - loss: -0.4985 - dice_coef: 0.4985 - val_loss: -0.4899 - val_dice_coef: 0.4899\n",
      "Epoch 24/200\n",
      "8704/8704 [==============================] - 21s 2ms/step - loss: -0.5001 - dice_coef: 0.5001 - val_loss: -0.4894 - val_dice_coef: 0.4894\n",
      "Epoch 25/200\n",
      "8704/8704 [==============================] - 21s 2ms/step - loss: -0.5020 - dice_coef: 0.5020 - val_loss: -0.4899 - val_dice_coef: 0.4899\n",
      "Epoch 26/200\n",
      "8704/8704 [==============================] - 21s 2ms/step - loss: -0.5033 - dice_coef: 0.5033 - val_loss: -0.4918 - val_dice_coef: 0.4918\n",
      "Epoch 27/200\n",
      "8704/8704 [==============================] - 21s 2ms/step - loss: -0.5044 - dice_coef: 0.5044 - val_loss: -0.4925 - val_dice_coef: 0.4925\n",
      "Epoch 28/200\n",
      "8704/8704 [==============================] - 21s 2ms/step - loss: -0.5062 - dice_coef: 0.5062 - val_loss: -0.4905 - val_dice_coef: 0.4905\n",
      "Epoch 29/200\n",
      "8704/8704 [==============================] - 21s 2ms/step - loss: -0.5077 - dice_coef: 0.5077 - val_loss: -0.4913 - val_dice_coef: 0.4913\n",
      "Epoch 30/200\n",
      "8704/8704 [==============================] - 20s 2ms/step - loss: -0.5095 - dice_coef: 0.5095 - val_loss: -0.4936 - val_dice_coef: 0.4936\n",
      "Epoch 31/200\n",
      "8704/8704 [==============================] - 20s 2ms/step - loss: -0.5106 - dice_coef: 0.5106 - val_loss: -0.4930 - val_dice_coef: 0.4930\n",
      "Epoch 32/200\n",
      "8704/8704 [==============================] - 20s 2ms/step - loss: -0.5120 - dice_coef: 0.5120 - val_loss: -0.4943 - val_dice_coef: 0.4943\n",
      "Epoch 33/200\n",
      "8704/8704 [==============================] - 21s 2ms/step - loss: -0.5131 - dice_coef: 0.5131 - val_loss: -0.4936 - val_dice_coef: 0.4936\n",
      "Epoch 34/200\n",
      "8704/8704 [==============================] - 21s 2ms/step - loss: -0.5145 - dice_coef: 0.5145 - val_loss: -0.4938 - val_dice_coef: 0.4938\n",
      "Epoch 35/200\n",
      "8704/8704 [==============================] - 21s 2ms/step - loss: -0.5160 - dice_coef: 0.5160 - val_loss: -0.4946 - val_dice_coef: 0.4946\n",
      "Epoch 36/200\n",
      "8704/8704 [==============================] - 21s 2ms/step - loss: -0.5169 - dice_coef: 0.5169 - val_loss: -0.4955 - val_dice_coef: 0.4955\n",
      "Epoch 37/200\n",
      "8704/8704 [==============================] - 21s 2ms/step - loss: -0.5187 - dice_coef: 0.5187 - val_loss: -0.4894 - val_dice_coef: 0.4894\n",
      "Epoch 38/200\n",
      "8704/8704 [==============================] - 21s 2ms/step - loss: -0.5198 - dice_coef: 0.5198 - val_loss: -0.4949 - val_dice_coef: 0.4949\n",
      "Epoch 39/200\n",
      "8704/8704 [==============================] - 21s 2ms/step - loss: -0.5212 - dice_coef: 0.5212 - val_loss: -0.4931 - val_dice_coef: 0.4931\n",
      "Epoch 40/200\n",
      "8704/8704 [==============================] - 21s 2ms/step - loss: -0.5222 - dice_coef: 0.5222 - val_loss: -0.4952 - val_dice_coef: 0.4952\n",
      "Epoch 41/200\n",
      "8704/8704 [==============================] - 21s 2ms/step - loss: -0.5237 - dice_coef: 0.5237 - val_loss: -0.4940 - val_dice_coef: 0.4940\n",
      "Epoch 42/200\n",
      "8704/8704 [==============================] - 21s 2ms/step - loss: -0.5253 - dice_coef: 0.5253 - val_loss: -0.4952 - val_dice_coef: 0.4952\n",
      "Epoch 43/200\n",
      "8704/8704 [==============================] - 21s 2ms/step - loss: -0.5260 - dice_coef: 0.5260 - val_loss: -0.4928 - val_dice_coef: 0.4928\n",
      "Epoch 44/200\n",
      "8704/8704 [==============================] - 21s 2ms/step - loss: -0.5271 - dice_coef: 0.5271 - val_loss: -0.4948 - val_dice_coef: 0.4948\n",
      "Epoch 45/200\n",
      "8704/8704 [==============================] - 21s 2ms/step - loss: -0.5291 - dice_coef: 0.5291 - val_loss: -0.4921 - val_dice_coef: 0.4921\n",
      "Epoch 46/200\n",
      "8704/8704 [==============================] - 21s 2ms/step - loss: -0.5302 - dice_coef: 0.5302 - val_loss: -0.4944 - val_dice_coef: 0.4944\n",
      "Epoch 00046: early stopping\n",
      "------------------------------\n",
      "Done !!\n",
      "------------------------------\n"
     ]
    }
   ],
   "source": [
    "from keras.callbacks import EarlyStopping, TensorBoard\n",
    "print(('-'*30))\n",
    "print('Fitting model...')\n",
    "print(('-'*30))\n",
    "early_stopping = EarlyStopping(\n",
    "    monitor='val_loss', min_delta=0, patience=10, verbose=1, mode='auto')\n",
    "tb_hist = TensorBoard(log_dir='./logs',\n",
    "                      histogram_freq=0, write_grads=True, write_images=True)\n",
    "\n",
    "history = unet.fit(train_img, train_msk, epochs=200, verbose=1, shuffle=True, validation_split=0.15,\n",
    "                   batch_size=32, callbacks=[tb_hist, early_stopping, model_checkpoint])\n",
    "\n",
    "print(('-'*30))\n",
    "\n",
    "\n",
    "print('Done !!')\n",
    "print(('-'*30))"
   ]
  },
  {
   "cell_type": "code",
   "execution_count": 20,
   "metadata": {},
   "outputs": [
    {
     "data": {
      "image/png": "[encoded data removed]",
      "text/plain": [
       "<Figure size 432x288 with 1 Axes>"
      ]
     },
     "metadata": {
      "needs_background": "light"
     },
     "output_type": "display_data"
    }
   ],
   "source": [
    "plt.plot(history.history['loss'], 'y', label='loss')\n",
    "plt.plot(history.history['val_loss'], 'r', label='val_loss')\n",
    "plt.xlabel('epoch')\n",
    "plt.ylabel('loss')\n",
    "plt.legend(loc='upper right')\n",
    "plt.show()"
   ]
  },
  {
   "cell_type": "code",
   "execution_count": 21,
   "metadata": {},
   "outputs": [
    {
     "data": {
      "image/png": "[encoded data removed]",
      "text/plain": [
       "<Figure size 432x288 with 1 Axes>"
      ]
     },
     "metadata": {
      "needs_background": "light"
     },
     "output_type": "display_data"
    }
   ],
   "source": [
    "plt.plot(history.history['dice_coef'], 'b', label='dice_coef')\n",
    "plt.plot(history.history['val_dice_coef'], 'g', label='val_dice_coef')\n",
    "plt.xlabel('epoch')\n",
    "plt.ylabel('dice_coef')\n",
    "plt.legend(loc='lower right')\n",
    "plt.show()"
   ]
  },
  {
   "cell_type": "code",
   "execution_count": 22,
   "metadata": {},
   "outputs": [],
   "source": [
    "import pandas as pd\n",
    "\n",
    "df = pd.DataFrame({\"loss\": history.history['loss'],  \"val_loss\": history.history['val_loss'],\n",
    "                   \"dice_coef\": history.history['dice_coef'],  \"val_dice_coef\": history.history['val_dice_coef'], })\n",
    "df.to_csv('./history_{:2.2}.csv'.format(history.history['val_dice_coef'][-1]))\n",
    "unet.save_weights(\"./model_{:2.2}.h5\".format(history.history['val_dice_coef'][-1]))"
   ]
  },
  {
   "cell_type": "code",
   "execution_count": 24,
   "metadata": {},
   "outputs": [
    {
     "name": "stdout",
     "output_type": "stream",
     "text": [
      "465/465 [==============================] - 2s 5ms/step\n",
      "465/465 [==============================] - 0s 776us/step\n"
     ]
    }
   ],
   "source": [
    "import cv2\n",
    "\n",
    "mask_predict = unet.predict(image_valid, verbose=1)\n",
    "score = unet.evaluate(mask_predict, mask_valid , verbose=1)"
   ]
  },
  {
   "cell_type": "code",
   "execution_count": 25,
   "metadata": {},
   "outputs": [
    {
     "name": "stdout",
     "output_type": "stream",
     "text": [
      "Test score: -0.43068164260156694\n",
      "Test accuracy: 0.43068164260156694\n"
     ]
    }
   ],
   "source": [
    "print('Test score:', score[0])\n",
    "print('Test accuracy:', score[1])"
   ]
  },
  {
   "cell_type": "code",
   "execution_count": 26,
   "metadata": {},
   "outputs": [],
   "source": [
    "mask_r = mask_predict.reshape(465, 96, 96)\n",
    "mask_test_u = mask_valid.reshape(465, 96, 96)\n",
    "image_test_u = image_valid.reshape(465, 96, 96)"
   ]
  },
  {
   "cell_type": "code",
   "execution_count": 27,
   "metadata": {},
   "outputs": [],
   "source": [
    "img_test_o = (mask_r*2)+image_test_u\n",
    "img_predict_o =image_test_u+(mask_test_u*2)"
   ]
  },
  {
   "cell_type": "code",
   "execution_count": 28,
   "metadata": {},
   "outputs": [
    {
     "data": {
      "image/png": "[encoded data removed]",
      "text/plain": [
       "<Figure size 432x288 with 1 Axes>"
      ]
     },
     "metadata": {
      "needs_background": "light"
     },
     "output_type": "display_data"
    },
    {
     "data": {
      "image/png": "[encoded data removed]",
      "text/plain": [
       "<Figure size 432x288 with 1 Axes>"
      ]
     },
     "metadata": {
      "needs_background": "light"
     },
     "output_type": "display_data"
    },
    {
     "data": {
      "image/png": "[encoded data removed]",
      "text/plain": [
       "<Figure size 432x288 with 1 Axes>"
      ]
     },
     "metadata": {
      "needs_background": "light"
     },
     "output_type": "display_data"
    },
    {
     "data": {
      "image/png": "[encoded data removed]",
      "text/plain": [
       "<Figure size 432x288 with 1 Axes>"
      ]
     },
     "metadata": {
      "needs_background": "light"
     },
     "output_type": "display_data"
    }
   ],
   "source": [
    "plt.figure()\n",
    "plt.imshow(mask_test_u[35], cmap='gray')\n",
    "plt.show()\n",
    "\n",
    "plt.figure()\n",
    "plt.imshow( mask_r[35], cmap='gray')\n",
    "plt.show()\n",
    "\n",
    "plt.figure()\n",
    "plt.imshow(img_test_o[35], cmap='gray')\n",
    "plt.show()\n",
    "\n",
    "plt.figure()\n",
    "plt.imshow(img_predict_o[35], cmap='gray')\n",
    "plt.show()"
   ]
  }
 ],
 "metadata": {
  "kernelspec": {
   "display_name": "Python 3",
   "language": "python",
   "name": "python3"
  },
  "language_info": {
   "codemirror_mode": {
    "name": "ipython",
    "version": 3
   },
   "file_extension": ".py",
   "mimetype": "text/x-python",
   "name": "python",
   "nbconvert_exporter": "python",
   "pygments_lexer": "ipython3",
   "version": "3.7.4"
  },
  "latex_envs": {
   "LaTeX_envs_menu_present": true,
   "autoclose": false,
   "autocomplete": true,
   "bibliofile": "biblio.bib",
   "cite_by": "apalike",
   "current_citInitial": 1,
   "eqLabelWithNumbers": true,
   "eqNumInitial": 1,
   "hotkeys": {
    "equation": "Ctrl-E",
    "itemize": "Ctrl-I"
   },
   "labels_anchors": false,
   "latex_user_defs": false,
   "report_style_numbering": false,
   "user_envs_cfg": false
  },
  "varInspector": {
   "cols": {
    "lenName": 16,
    "lenType": 16,
    "lenVar": 40
   },
   "kernels_config": {
    "python": {
     "delete_cmd_postfix": "",
     "delete_cmd_prefix": "del ",
     "library": "var_list.py",
     "varRefreshCmd": "print(var_dic_list())"
    },
    "r": {
     "delete_cmd_postfix": ") ",
     "delete_cmd_prefix": "rm(",
     "library": "var_list.r",
     "varRefreshCmd": "cat(var_dic_list()) "
    }
   },
   "types_to_exclude": [
    "module",
    "function",
    "builtin_function_or_method",
    "instance",
    "_Feature"
   ],
   "window_display": false
  }
 },
 "nbformat": 4,
 "nbformat_minor": 2
}
