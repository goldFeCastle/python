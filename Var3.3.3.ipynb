{
 "cells": [
  {
   "cell_type": "code",
   "execution_count": 4,
   "metadata": {},
   "outputs": [],
   "source": [
    "import os\n",
    "import cv2\n",
    "import math\n",
    "import time\n",
    "import random\n",
    "import h5py\n",
    "\n",
    "import numpy as np\n",
    "import tensorflow as tf\n",
    "import matplotlib.pyplot as plt\n",
    "import pandas as pd\n",
    "\n",
    "from skimage.transform import resize\n",
    "from tensorflow.keras.models import Model\n",
    "from tensorflow.keras import layers, models\n",
    "from tensorflow.keras import backend as K\n",
    "from scipy.ndimage.filters import uniform_filter\n",
    "from scipy.ndimage.measurements import variance\n",
    "from sklearn.model_selection import train_test_split, StratifiedKFold\n",
    "from tensorflow.keras.callbacks import EarlyStopping, TensorBoard, ModelCheckpoint, ReduceLROnPlateau\n",
    "from tqdm import tqdm_notebook"
   ]
  },
  {
   "cell_type": "code",
   "execution_count": 5,
   "metadata": {},
   "outputs": [],
   "source": [
    "iN = np.hstack((np.array(1),np.arange(1,96))).astype('float32')"
   ]
  },
  {
   "cell_type": "code",
   "execution_count": 6,
   "metadata": {},
   "outputs": [
    {
     "data": {
      "text/plain": [
       "array([ 1.,  1.,  2.,  3.,  4.,  5.,  6.,  7.,  8.,  9., 10., 11., 12.,\n",
       "       13., 14., 15., 16., 17., 18., 19., 20., 21., 22., 23., 24., 25.,\n",
       "       26., 27., 28., 29., 30., 31., 32., 33., 34., 35., 36., 37., 38.,\n",
       "       39., 40., 41., 42., 43., 44., 45., 46., 47., 48., 49., 50., 51.,\n",
       "       52., 53., 54., 55., 56., 57., 58., 59., 60., 61., 62., 63., 64.,\n",
       "       65., 66., 67., 68., 69., 70., 71., 72., 73., 74., 75., 76., 77.,\n",
       "       78., 79., 80., 81., 82., 83., 84., 85., 86., 87., 88., 89., 90.,\n",
       "       91., 92., 93., 94., 95.], dtype=float32)"
      ]
     },
     "execution_count": 6,
     "metadata": {},
     "output_type": "execute_result"
    }
   ],
   "source": [
    "iN"
   ]
  },
  {
   "cell_type": "code",
   "execution_count": 2,
   "metadata": {},
   "outputs": [
    {
     "ename": "AttributeError",
     "evalue": "module 'tensorflow' has no attribute 'ConfigProto'",
     "output_type": "error",
     "traceback": [
      "\u001b[1;31m---------------------------------------------------------------------------\u001b[0m",
      "\u001b[1;31mAttributeError\u001b[0m                            Traceback (most recent call last)",
      "\u001b[1;32m<ipython-input-2-840c84d0c77d>\u001b[0m in \u001b[0;36m<module>\u001b[1;34m\u001b[0m\n\u001b[1;32m----> 1\u001b[1;33m \u001b[0mconfig\u001b[0m \u001b[1;33m=\u001b[0m \u001b[0mtf\u001b[0m\u001b[1;33m.\u001b[0m\u001b[0mConfigProto\u001b[0m\u001b[1;33m(\u001b[0m\u001b[1;33m)\u001b[0m\u001b[1;33m\u001b[0m\u001b[1;33m\u001b[0m\u001b[0m\n\u001b[0m\u001b[0;32m      2\u001b[0m \u001b[0mconfig\u001b[0m\u001b[1;33m.\u001b[0m\u001b[0mgpu_options\u001b[0m\u001b[1;33m.\u001b[0m\u001b[0mallow_growth\u001b[0m \u001b[1;33m=\u001b[0m \u001b[1;32mTrue\u001b[0m\u001b[1;33m\u001b[0m\u001b[1;33m\u001b[0m\u001b[0m\n\u001b[0;32m      3\u001b[0m \u001b[0msession\u001b[0m \u001b[1;33m=\u001b[0m \u001b[0mtf\u001b[0m\u001b[1;33m.\u001b[0m\u001b[0mSession\u001b[0m\u001b[1;33m(\u001b[0m\u001b[0mconfig\u001b[0m\u001b[1;33m=\u001b[0m\u001b[0mconfig\u001b[0m\u001b[1;33m)\u001b[0m\u001b[1;33m\u001b[0m\u001b[1;33m\u001b[0m\u001b[0m\n",
      "\u001b[1;31mAttributeError\u001b[0m: module 'tensorflow' has no attribute 'ConfigProto'"
     ]
    }
   ],
   "source": [
    "config = tf.ConfigProto()\n",
    "config.gpu_options.allow_growth = True\n",
    "session = tf.Session(config=config)"
   ]
  },
  {
   "cell_type": "code",
   "execution_count": 5,
   "metadata": {},
   "outputs": [],
   "source": [
    "K.set_image_data_format('channels_last')  # TF dimension ordering in this code\n",
    "\n",
    "create_image_rows = 420\n",
    "create_image_cols = 580\n",
    "smooth = 1.0"
   ]
  },
  {
   "cell_type": "code",
   "execution_count": 4,
   "metadata": {},
   "outputs": [],
   "source": [
    "#image_t =h5py.File('./imgs_train_3.h5', 'r')\n",
    "#image_t =image_t.get('image')\n",
    "#image_t= np.array(image_t)\n",
    "#image_t=np.transpose(image_t)"
   ]
  },
  {
   "cell_type": "code",
   "execution_count": 6,
   "metadata": {},
   "outputs": [],
   "source": [
    "mask_t = np.load('./imgs_mask_train.npy')\n",
    "image_t = np.load('./imgs_train.npy')\n",
    "#image_c = np.load('./image_FROST_9.npy')\n",
    "\n",
    "random.seed(42)\n",
    "suffle_seed = 42"
   ]
  },
  {
   "cell_type": "code",
   "execution_count": 7,
   "metadata": {},
   "outputs": [],
   "source": [
    "def lee_filter(img, size):\n",
    "    img_mean = uniform_filter(img, (size, size))\n",
    "    img_sqr_mean = uniform_filter(img**2, (size, size))\n",
    "    img_variance = img_sqr_mean - img_mean**2\n",
    "\n",
    "    overall_variance = variance(img)\n",
    "\n",
    "    img_weights = img_variance / (img_variance + overall_variance)\n",
    "    img_output = img_mean + img_weights * (img - img_mean)\n",
    "    return img_output"
   ]
  },
  {
   "cell_type": "code",
   "execution_count": 8,
   "metadata": {},
   "outputs": [],
   "source": [
    "def Frost_filter(img, winsize):\n",
    "    eps = np.finfo(float).eps\n",
    "    imageType = img.dtype\n",
    "    mask = cv2.getStructuringElement(cv2.MORPH_RECT, (winsize, winsize))\n",
    "    origin_gray = np.pad(img, (math.floor(winsize/2),\n",
    "                               math.floor(winsize/2)), 'symmetric')\n",
    "    origin_gray = origin_gray.astype('float32')\n",
    "    [nRows, nCols] = np.shape(origin_gray)\n",
    "\n",
    "    output_image = np.zeros((nRows, nCols))\n",
    "\n",
    "    half_under = math.floor(winsize/2)\n",
    "    half_upper = math.ceil(winsize/2)\n",
    "    winsize_sq= winsize**2\n",
    "\n",
    "    grid_size = np.arange(-math.floor(winsize/2), math.floor(winsize/2)+1, 1)\n",
    "    [xIndGrid, yIndGrid] = np.meshgrid(grid_size, grid_size)\n",
    "    expWeight = np.exp(-(xIndGrid**2 + yIndGrid**2)**0.5)\n",
    "\n",
    "    ind = np.arange(math.ceil(winsize/2), nRows-math.floor(winsize/2))\n",
    "    for i in ind:\n",
    "        for j in ind:\n",
    "            localNeighborhood = origin_gray[i-half_upper: i +half_under,\n",
    "                                            j-half_upper: j+half_under]\n",
    "            localNeighborhood = localNeighborhood.reshape(winsize_sq, 1)\n",
    "            localMean = localNeighborhood.mean()\n",
    "            localVar = localNeighborhood.var()+eps\n",
    "            alpha = np.sqrt(localVar)/localMean\n",
    "            localWeight = alpha*(expWeight**alpha)\n",
    "            localWeightLin = localWeight.reshape(winsize_sq, 1)\n",
    "            localWeightLin =localWeightLin/np.sum(localWeightLin)\n",
    "            output_image[i, j] = np.sum(localWeightLin*localNeighborhood)\n",
    "\n",
    "    output_image = output_image[math.floor(\n",
    "        winsize/2):nRows-math.floor(winsize/2), math.floor(winsize/2):nCols-math.floor(winsize/2)]\n",
    "    output_image = output_image.astype(imageType)\n",
    "\n",
    "    return output_image"
   ]
  },
  {
   "cell_type": "code",
   "execution_count": 9,
   "metadata": {},
   "outputs": [],
   "source": [
    "def kuan_filt(origin_gray, niterations):\n",
    "    [x, y] = np.shape(origin_gray)\n",
    "    I = origin_gray.astype('float32')\n",
    "    kn = I\n",
    "    N = np.zeros(np.shape(I))\n",
    "    I = np.pad(I, (1, 1), 'reflect')\n",
    "    for i in np.arange(0, niterations):\n",
    "        if i >= 1:\n",
    "            I = kn\n",
    "        for i in np.arange(0, x):\n",
    "            for j in np.arange(0, y):\n",
    "                if (i == 0 and j == 0):\n",
    "                    mat = np.array([0, 0, 0, 0, I[i, j], I[i, j+1],\n",
    "                                    0, I[i+1, j], I[i+1, j+1]])\n",
    "                if (i == 0 and j == y-1):\n",
    "                    mat = np.array([0, 0, 0, I[i, j-1], I[i, j],\n",
    "                                    0, I[i+1, j-1], I[i+1, j], 0])\n",
    "                if (i == x-1 and j == 1):\n",
    "                    mat = np.array([0, I[i-1, j], I[i-1, j+1], 0,\n",
    "                                    I[i, j], I[i, j+1], 0, 0, 0])\n",
    "                if (i == x-1 and j == y-1):\n",
    "                    mat = np.array([I[i-1, j-1], I[i-1, j], 0,\n",
    "                                    I[i, j-1], I[i, j], 0, 0, 0, 0])\n",
    "                if (i > 0 and i < x-1 and j > 0 and j < y-1):\n",
    "                    mat = np.array([I[i-1, j-1], I[i-1, j], I[i-1, j+1], I[i, j-1],\n",
    "                                    I[i, j], I[i, j+1], I[i+1, j-1], I[i+1, j], I[i+1, j]])\n",
    "                y1 = I[i, j]\n",
    "                ybar = np.average((mat))\n",
    "                ystad = np.std(mat)\n",
    "                ENL=(ybar/ystad)**2\n",
    "                sx2=((ENL*((ystad)**2))-((ybar)**2))/(ENL+1)\n",
    "                xcap=ybar+(sx2*(y1-ybar))/(sx2+((ybar**2+sx2)/ENL))\n",
    "                # N[i,j]=xcap\n",
    "    return N"
   ]
  },
  {
   "cell_type": "code",
   "execution_count": 10,
   "metadata": {},
   "outputs": [],
   "source": [
    "def SRAD(i, niter, lamda, rect):\n",
    "    # make image a double and normalize on[0, 1]\n",
    "    i = image_t[0].astype('float64')\n",
    "    mx = np.max(i[:])\n",
    "    mn = np.min(img[:])\n",
    "    i = (i-mn)/(mx-mn)\n",
    "\n",
    "    # make image a double and normalize on[0, 1]\n",
    "    [M, N] = np.shape(i)\n",
    "\n",
    "    # image indices (using boudary conditions)\n",
    "    iN = np.hstack((np.array(0),np.arange(0,M-1)))\n",
    "    iS = np.hstack((np.arange(1,M-1),np.array(M-1),np.array(M-1)))\n",
    "    jW = np.hstack((np.array(0),np.arange(0,N-1)))\n",
    "    jE = np.hstack((np.arange(1,N-1),np.array(N-1),np.array(N-1)))\n",
    "    \n",
    "    # log uncompress (also eliminates zero value pixels)\n",
    "    img = np.exp(img)\n",
    "\n",
    "    # main algorithm\n",
    "    for liter in np.arange(1,niter+1):\n",
    "\n",
    "         # speckle scale function\n",
    "        Iuniform = img[rect[0]:rect[1],rect[2]:rect[3]]\n",
    "        q0_squared = np.var(Iuniform[:]) / ((np.mean(Iuniform[:]))**2)\n",
    "\n",
    "        # difference\n",
    "        dN = i[iN, :] - i\n",
    "        dS = i[iS, :] - i\n",
    "        dW = i[:, jW] - i\n",
    "        dE = i[:, jE] - i\n",
    "\n",
    "        # normalized discrete gradient magnitude squared (equ 52,53)\n",
    "        G2 = (pow(dN,2) + pow(dS, 2) + pow(dW, 2) + pow(dE, 2)) / (pow(i, 2))\n",
    "\n",
    "        # normalized discrete laplacian (equ 54)\n",
    "        L = (dN + dS + dW + dE)/img\n",
    "\n",
    "        # ICOV (equ 31/35)\n",
    "        num = (0.5*G2) - ((1/16)*(pow(L, 2)))\n",
    "        den = pow((1 + ((1/4)*L)), 2)\n",
    "        q_squared = num / (den + np.finfo(float).eps)\n",
    "\n",
    "        # diffusion coefficent (equ 33)\n",
    "        den = (q_squared - q0_squared) / (q0_squared * (1 + q0_squared) +np.finfo(float).eps)\n",
    "        c = 1 / (1 + den)\n",
    "\n",
    "        # saturate diffusion coefficent\n",
    "        c[c < 0] = 0\n",
    "        c[c > 1] = 1\n",
    "\n",
    "        # divergence (equ 58)\n",
    "        cS = c[iS, :]\n",
    "        cE = c[:,jE]\n",
    "        D = (c*dN) + (cS*dS) + (c*dW) + (cE*dE)\n",
    "        \n",
    "        # update\n",
    "        img = img + (lamda/4)*D; \n",
    "        \n",
    "    J = np.log(img)\n",
    "    J=np.round(J*255)\n",
    "    return J"
   ]
  },
  {
   "cell_type": "code",
   "execution_count": 11,
   "metadata": {},
   "outputs": [],
   "source": [
    "import scipy\n",
    "train_image_rows = 96\n",
    "train_image_cols = 96\n",
    "winodw_size = 3\n",
    "\n",
    "def preprocess_msk(imgs):\n",
    "    imgs_p = np.ndarray(\n",
    "        (imgs.shape[0], train_image_rows, train_image_cols), dtype=np.uint8)\n",
    "    for i in tqdm_notebook(range(imgs.shape[0])):\n",
    "        imgs_p[i] = resize(\n",
    "            imgs[i].astype('float32'), (train_image_rows, train_image_cols), mode='reflect',\n",
    "            preserve_range=True)\n",
    "\n",
    "    imgs_p = imgs_p[..., np.newaxis]\n",
    "    return imgs_p\n",
    "\n",
    "\n",
    "def preprocess_img(imgs):\n",
    "    imgs_p = np.ndarray(\n",
    "        (imgs.shape[0], train_image_rows, train_image_cols), dtype=np.float32)\n",
    "    for i in tqdm_notebook(range(imgs.shape[0])):\n",
    "        #imgs[i] = cv2.blur(imgs[i].astype('float32').astype('float32'),(winodw_size,winodw_size))\n",
    "        imgs_t = SRAD(imgs[i],10, 2, [0, 420, 0, 580])\n",
    "        #imgs[i] = lee_filter(imgs[i],11)sssss\n",
    "        #imgs[i] = kuan_filt(imgs[i].astype('float32'),1)\n",
    "        #imgs[i] = Frost_filter(imgs[i].astype('float32'),11)\n",
    "        #imgs[i] = scipy.signal.wiener(imgs[i].astype('float32'), mysize=13)\n",
    "        imgs_p[i] = resize(\n",
    "            imgs_t.astype('float32'), (train_image_rows, train_image_cols), mode='reflect', preserve_range=True)\n",
    "        mean = np.mean(imgs_p[i])\n",
    "        std = np.std(imgs_p[i])\n",
    "\n",
    "        imgs_p[i] -= mean\n",
    "        imgs_p[i] /= std\n",
    "\n",
    "    imgs_p = imgs_p[..., np.newaxis]\n",
    "    return imgs_p"
   ]
  },
  {
   "cell_type": "code",
   "execution_count": 12,
   "metadata": {
    "scrolled": true
   },
   "outputs": [
    {
     "name": "stderr",
     "output_type": "stream",
     "text": [
      "f:\\program files\\python37\\lib\\site-packages\\ipykernel_launcher.py:21: TqdmDeprecationWarning: This function will be removed in tqdm==5.0.0\n",
      "Please use `tqdm.notebook.tqdm` instead of `tqdm.tqdm_notebook`\n"
     ]
    },
    {
     "data": {
      "application/vnd.jupyter.widget-view+json": {
       "model_id": "c6798f9b1cd14902b90e6f8bef7fdb6e",
       "version_major": 2,
       "version_minor": 0
      },
      "text/plain": [
       "HBox(children=(FloatProgress(value=0.0, max=5635.0), HTML(value='')))"
      ]
     },
     "metadata": {},
     "output_type": "display_data"
    },
    {
     "name": "stdout",
     "output_type": "stream",
     "text": [
      "\n"
     ]
    },
    {
     "ename": "UnboundLocalError",
     "evalue": "local variable 'img' referenced before assignment",
     "output_type": "error",
     "traceback": [
      "\u001b[1;31m---------------------------------------------------------------------------\u001b[0m",
      "\u001b[1;31mUnboundLocalError\u001b[0m                         Traceback (most recent call last)",
      "\u001b[1;32m<ipython-input-12-32457f08e318>\u001b[0m in \u001b[0;36m<module>\u001b[1;34m\u001b[0m\n\u001b[1;32m----> 1\u001b[1;33m \u001b[0mimage_c\u001b[0m \u001b[1;33m=\u001b[0m \u001b[0mpreprocess_img\u001b[0m\u001b[1;33m(\u001b[0m\u001b[0mimage_t\u001b[0m\u001b[1;33m)\u001b[0m\u001b[1;33m\u001b[0m\u001b[1;33m\u001b[0m\u001b[0m\n\u001b[0m\u001b[0;32m      2\u001b[0m \u001b[0mmask_c\u001b[0m \u001b[1;33m=\u001b[0m \u001b[0mpreprocess_msk\u001b[0m\u001b[1;33m(\u001b[0m\u001b[0mmask_t\u001b[0m\u001b[1;33m)\u001b[0m\u001b[1;33m\u001b[0m\u001b[1;33m\u001b[0m\u001b[0m\n\u001b[0;32m      3\u001b[0m \u001b[1;33m\u001b[0m\u001b[0m\n\u001b[0;32m      4\u001b[0m \u001b[0mmask_c\u001b[0m \u001b[1;33m=\u001b[0m \u001b[0mmask_c\u001b[0m \u001b[1;33m.\u001b[0m\u001b[0mastype\u001b[0m\u001b[1;33m(\u001b[0m\u001b[1;34m'float32'\u001b[0m\u001b[1;33m)\u001b[0m\u001b[1;33m\u001b[0m\u001b[1;33m\u001b[0m\u001b[0m\n\u001b[0;32m      5\u001b[0m \u001b[0mmask_c\u001b[0m \u001b[1;33m/=\u001b[0m \u001b[1;36m255.\u001b[0m  \u001b[1;31m# scale masks to [0, 1]\u001b[0m\u001b[1;33m\u001b[0m\u001b[1;33m\u001b[0m\u001b[0m\n",
      "\u001b[1;32m<ipython-input-11-cc9bdcc2ade3>\u001b[0m in \u001b[0;36mpreprocess_img\u001b[1;34m(imgs)\u001b[0m\n\u001b[0;32m     21\u001b[0m     \u001b[1;32mfor\u001b[0m \u001b[0mi\u001b[0m \u001b[1;32min\u001b[0m \u001b[0mtqdm_notebook\u001b[0m\u001b[1;33m(\u001b[0m\u001b[0mrange\u001b[0m\u001b[1;33m(\u001b[0m\u001b[0mimgs\u001b[0m\u001b[1;33m.\u001b[0m\u001b[0mshape\u001b[0m\u001b[1;33m[\u001b[0m\u001b[1;36m0\u001b[0m\u001b[1;33m]\u001b[0m\u001b[1;33m)\u001b[0m\u001b[1;33m)\u001b[0m\u001b[1;33m:\u001b[0m\u001b[1;33m\u001b[0m\u001b[1;33m\u001b[0m\u001b[0m\n\u001b[0;32m     22\u001b[0m         \u001b[1;31m#imgs[i] = cv2.blur(imgs[i].astype('float32').astype('float32'),(winodw_size,winodw_size))\u001b[0m\u001b[1;33m\u001b[0m\u001b[1;33m\u001b[0m\u001b[1;33m\u001b[0m\u001b[0m\n\u001b[1;32m---> 23\u001b[1;33m         \u001b[0mimgs_t\u001b[0m \u001b[1;33m=\u001b[0m \u001b[0mSRAD\u001b[0m\u001b[1;33m(\u001b[0m\u001b[0mimgs\u001b[0m\u001b[1;33m[\u001b[0m\u001b[0mi\u001b[0m\u001b[1;33m]\u001b[0m\u001b[1;33m,\u001b[0m\u001b[1;36m10\u001b[0m\u001b[1;33m,\u001b[0m \u001b[1;36m2\u001b[0m\u001b[1;33m,\u001b[0m \u001b[1;33m[\u001b[0m\u001b[1;36m0\u001b[0m\u001b[1;33m,\u001b[0m \u001b[1;36m420\u001b[0m\u001b[1;33m,\u001b[0m \u001b[1;36m0\u001b[0m\u001b[1;33m,\u001b[0m \u001b[1;36m580\u001b[0m\u001b[1;33m]\u001b[0m\u001b[1;33m)\u001b[0m\u001b[1;33m\u001b[0m\u001b[1;33m\u001b[0m\u001b[0m\n\u001b[0m\u001b[0;32m     24\u001b[0m         \u001b[1;31m#imgs[i] = lee_filter(imgs[i],11)sssss\u001b[0m\u001b[1;33m\u001b[0m\u001b[1;33m\u001b[0m\u001b[1;33m\u001b[0m\u001b[0m\n\u001b[0;32m     25\u001b[0m         \u001b[1;31m#imgs[i] = kuan_filt(imgs[i].astype('float32'),1)\u001b[0m\u001b[1;33m\u001b[0m\u001b[1;33m\u001b[0m\u001b[1;33m\u001b[0m\u001b[0m\n",
      "\u001b[1;32m<ipython-input-10-e9b7928100ee>\u001b[0m in \u001b[0;36mSRAD\u001b[1;34m(i, niter, lamda, rect)\u001b[0m\n\u001b[0;32m      3\u001b[0m     \u001b[0mi\u001b[0m \u001b[1;33m=\u001b[0m \u001b[0mimage_t\u001b[0m\u001b[1;33m[\u001b[0m\u001b[1;36m0\u001b[0m\u001b[1;33m]\u001b[0m\u001b[1;33m.\u001b[0m\u001b[0mastype\u001b[0m\u001b[1;33m(\u001b[0m\u001b[1;34m'float64'\u001b[0m\u001b[1;33m)\u001b[0m\u001b[1;33m\u001b[0m\u001b[1;33m\u001b[0m\u001b[0m\n\u001b[0;32m      4\u001b[0m     \u001b[0mmx\u001b[0m \u001b[1;33m=\u001b[0m \u001b[0mnp\u001b[0m\u001b[1;33m.\u001b[0m\u001b[0mmax\u001b[0m\u001b[1;33m(\u001b[0m\u001b[0mi\u001b[0m\u001b[1;33m[\u001b[0m\u001b[1;33m:\u001b[0m\u001b[1;33m]\u001b[0m\u001b[1;33m)\u001b[0m\u001b[1;33m\u001b[0m\u001b[1;33m\u001b[0m\u001b[0m\n\u001b[1;32m----> 5\u001b[1;33m     \u001b[0mmn\u001b[0m \u001b[1;33m=\u001b[0m \u001b[0mnp\u001b[0m\u001b[1;33m.\u001b[0m\u001b[0mmin\u001b[0m\u001b[1;33m(\u001b[0m\u001b[0mimg\u001b[0m\u001b[1;33m[\u001b[0m\u001b[1;33m:\u001b[0m\u001b[1;33m]\u001b[0m\u001b[1;33m)\u001b[0m\u001b[1;33m\u001b[0m\u001b[1;33m\u001b[0m\u001b[0m\n\u001b[0m\u001b[0;32m      6\u001b[0m     \u001b[0mi\u001b[0m \u001b[1;33m=\u001b[0m \u001b[1;33m(\u001b[0m\u001b[0mi\u001b[0m\u001b[1;33m-\u001b[0m\u001b[0mmn\u001b[0m\u001b[1;33m)\u001b[0m\u001b[1;33m/\u001b[0m\u001b[1;33m(\u001b[0m\u001b[0mmx\u001b[0m\u001b[1;33m-\u001b[0m\u001b[0mmn\u001b[0m\u001b[1;33m)\u001b[0m\u001b[1;33m\u001b[0m\u001b[1;33m\u001b[0m\u001b[0m\n\u001b[0;32m      7\u001b[0m \u001b[1;33m\u001b[0m\u001b[0m\n",
      "\u001b[1;31mUnboundLocalError\u001b[0m: local variable 'img' referenced before assignment"
     ]
    }
   ],
   "source": [
    "image_c = preprocess_img(image_t)\n",
    "mask_c = preprocess_msk(mask_t)\n",
    "\n",
    "mask_c = mask_c .astype('float32')\n",
    "mask_c /= 255.  # scale masks to [0, 1]"
   ]
  },
  {
   "cell_type": "code",
   "execution_count": 9,
   "metadata": {
    "collapsed": true,
    "deletable": false,
    "editable": false,
    "run_control": {
     "frozen": true
    }
   },
   "outputs": [
    {
     "data": {
      "text/plain": [
       "<matplotlib.image.AxesImage at 0x294f7b9c3c8>"
      ]
     },
     "execution_count": 9,
     "metadata": {},
     "output_type": "execute_result"
    },
    {
     "data": {
      "image/png": "[encoded data removed]",
      "text/plain": [
       "<Figure size 432x288 with 1 Axes>"
      ]
     },
     "metadata": {
      "needs_background": "light"
     },
     "output_type": "display_data"
    }
   ],
   "source": [
    "plt.figure()\n",
    "plt.imshow(image_t[0],cmap='gray')"
   ]
  },
  {
   "cell_type": "code",
   "execution_count": 12,
   "metadata": {},
   "outputs": [],
   "source": [
    "def dice_coef(y_true, y_pred):\n",
    "    y_true_f = K.flatten(y_true)\n",
    "    y_pred_f = K.flatten(y_pred)\n",
    "    intersection = K.sum(y_true_f * y_pred_f)\n",
    "    return (2. * intersection + smooth) / (K.sum(y_true_f) + K.sum(y_pred_f) + smooth)\n",
    "\n",
    "\n",
    "def dice_coef_loss(y_true, y_pred):\n",
    "    return dice_coef(y_true, y_pred)"
   ]
  },
  {
   "cell_type": "code",
   "execution_count": 13,
   "metadata": {},
   "outputs": [],
   "source": [
    "# Define IoU metric\n",
    "def mean_iou(y_true, y_pred):\n",
    "    prec = []\n",
    "    for t in np.arange(0.5, 1.0, 0.05):\n",
    "        y_pred_ = tf.to_int32(y_pred > t)\n",
    "        score, up_opt = tf.metrics.mean_iou(y_true, y_pred_, 2)\n",
    "        K.get_session().run(tf.local_variables_initializer())\n",
    "        with tf.control_dependencies([up_opt]):\n",
    "            score = tf.identity(score)\n",
    "        prec.append(score)\n",
    "    return K.mean(K.stack(prec), axis=0)"
   ]
  },
  {
   "cell_type": "code",
   "execution_count": 14,
   "metadata": {},
   "outputs": [],
   "source": [
    "def get_unet(inputs):\n",
    "    conv1 = layers.Conv2D(32, (3, 3),\n",
    "                          activation='relu', padding='same')(inputs)\n",
    "    conv1 = layers.Dropout(0.5)(conv1)\n",
    "    conv1 = layers.Conv2D(32, (3, 3),\n",
    "                          activation='relu', padding='same')(conv1)\n",
    "    pool1 = layers.MaxPooling2D(pool_size=(2, 2))(conv1)\n",
    "\n",
    "    conv2 = layers.Conv2D(64, (3, 3), activation='relu', padding='same')(pool1)\n",
    "    conv2 = layers.Dropout(0.5)(conv2)\n",
    "    conv2 = layers.Conv2D(64, (3, 3), activation='relu', padding='same')(conv2)\n",
    "    pool2 = layers.MaxPooling2D(pool_size=(2, 2))(conv2)\n",
    "\n",
    "    conv3 = layers.Conv2D(128, (3, 3), activation='relu',\n",
    "                          padding='same')(pool2)\n",
    "    conv3 = layers.Dropout(0.5)(conv3)\n",
    "    conv3 = layers.Conv2D(128, (3, 3), activation='relu',\n",
    "                          padding='same')(conv3)\n",
    "    pool3 = layers.MaxPooling2D(pool_size=(2, 2))(conv3)\n",
    "\n",
    "    conv4 = layers.Conv2D(256, (3, 3), activation='relu',\n",
    "                          padding='same')(pool3)\n",
    "    conv4 = layers.Dropout(0.5)(conv4)\n",
    "    conv4 = layers.Conv2D(256, (3, 3), activation='relu',\n",
    "                          padding='same')(conv4)\n",
    "    pool4 = layers.MaxPooling2D(pool_size=(2, 2))(conv4)\n",
    "\n",
    "    conv5 = layers.Conv2D(512, (3, 3),\n",
    "                          activation='relu', padding='same')(pool4)\n",
    "    conv5 = layers.Dropout(0.5)(conv5)\n",
    "    conv5 = layers.Conv2D(512, (3, 3), activation='relu',\n",
    "                          padding='same')(conv5)\n",
    "\n",
    "    up6 = layers.concatenate([layers.Conv2DTranspose(256, (2, 2), strides=(\n",
    "        2, 2), padding='same')(conv5), conv4], axis=3)\n",
    "    conv6 = layers.Conv2D(256, (3, 3), activation='relu', padding='same')(up6)\n",
    "    conv6 = layers.Dropout(0.5)(conv6)\n",
    "    conv6 = layers.Conv2D(256, (3, 3), activation='relu',\n",
    "                          padding='same')(conv6)\n",
    "\n",
    "    up7 = layers.concatenate([layers.Conv2DTranspose(128, (2, 2), strides=(\n",
    "        2, 2), padding='same')(conv6), conv3], axis=3)\n",
    "    conv7 = layers.Conv2D(128, (3, 3), activation='relu', padding='same')(up7)\n",
    "    conv7 = layers.Dropout(0.5)(conv7)\n",
    "    conv7 = layers.Conv2D(128, (3, 3), activation='relu',\n",
    "                          padding='same')(conv7)\n",
    "\n",
    "    up8 = layers.concatenate([layers.Conv2DTranspose(64, (2, 2), strides=(\n",
    "        2, 2), padding='same')(conv7), conv2], axis=3)\n",
    "    conv8 = layers.Conv2D(64, (3, 3), activation='relu', padding='same')(up8)\n",
    "    conv8 = layers.Dropout(0.5)(conv8)\n",
    "    conv8 = layers.Conv2D(64, (3, 3), activation='relu', padding='same')(conv8)\n",
    "\n",
    "    up9 = layers.concatenate([layers.Conv2DTranspose(32, (2, 2), strides=(\n",
    "        2, 2), padding='same')(conv8), conv1], axis=3)\n",
    "    conv9 = layers.Conv2D(32, (3, 3), activation='relu', padding='same')(up9)\n",
    "    conv9 = layers.Dropout(0.5)(conv9)\n",
    "    conv9 = layers.Conv2D(32, (3, 3), activation='relu', padding='same')(conv9)\n",
    "\n",
    "    conv10 = layers.Conv2D(1, (1, 1), activation='sigmoid')(conv9)\n",
    "\n",
    "    model = Model(inputs=[inputs], outputs=[conv10])\n",
    "\n",
    "    print((model.summary()))\n",
    "\n",
    "    return model"
   ]
  },
  {
   "cell_type": "code",
   "execution_count": 15,
   "metadata": {},
   "outputs": [],
   "source": [
    "def auto_encoder(inputs):\n",
    "    conv1 = layers.Conv2D(32, (3, 3),\n",
    "                          activation='relu', padding='same')(inputs)\n",
    "    pool1 = layers.MaxPooling2D(pool_size=(2, 2))(conv1)\n",
    "\n",
    "    conv2 = layers.Conv2D(64, (3, 3), activation='relu', padding='same')(pool1)\n",
    "    pool2 = layers.MaxPooling2D(pool_size=(2, 2))(conv2)\n",
    "\n",
    "    conv3 = layers.Conv2D(128, (3, 3), activation='relu',\n",
    "                          padding='same')(pool2)\n",
    "    pool3 = layers.MaxPooling2D(pool_size=(2, 2))(conv3)\n",
    "\n",
    "    conv4 = layers.Conv2D(256, (3, 3), activation='relu',\n",
    "                          padding='same')(pool3)\n",
    "    pool4 = layers.MaxPooling2D(pool_size=(2, 2))(conv4)\n",
    "\n",
    "    conv5 = layers.Conv2D(512, (3, 3),\n",
    "                          activation='relu', padding='same')(pool4)\n",
    "\n",
    "    up6 = layers.Conv2DTranspose(256, (2, 2), strides=(\n",
    "        2, 2), padding='same')(conv5)\n",
    "\n",
    "    up7 = layers.Conv2DTranspose(128, (2, 2), strides=(\n",
    "        2, 2), padding='same')(up6)\n",
    "\n",
    "    up8 = layers.Conv2DTranspose(64, (2, 2), strides=(\n",
    "        2, 2), padding='same')(up7)\n",
    "\n",
    "    up9 = layers.Conv2DTranspose(32, (2, 2), strides=(\n",
    "        2, 2), padding='same')(up8)\n",
    "\n",
    "    conv10 = layers.Conv2D(1, (1, 1), activation='sigmoid')(up9)\n",
    "\n",
    "    model = Model(inputs=[inputs], outputs=[conv10])\n",
    "\n",
    "    print((model.summary()))\n",
    "\n",
    "    return Model(inputs=[inputs], outputs=[conv10])"
   ]
  },
  {
   "cell_type": "code",
   "execution_count": 16,
   "metadata": {
    "scrolled": true
   },
   "outputs": [
    {
     "name": "stdout",
     "output_type": "stream",
     "text": [
      "WARNING:tensorflow:From d:\\Users\\AuFeCastle\\Anaconda3\\lib\\site-packages\\tensorflow\\python\\ops\\resource_variable_ops.py:435: colocate_with (from tensorflow.python.framework.ops) is deprecated and will be removed in a future version.\n",
      "Instructions for updating:\n",
      "Colocations handled automatically by placer.\n",
      "WARNING:tensorflow:From d:\\Users\\AuFeCastle\\Anaconda3\\lib\\site-packages\\tensorflow\\python\\keras\\layers\\core.py:143: calling dropout (from tensorflow.python.ops.nn_ops) with keep_prob is deprecated and will be removed in a future version.\n",
      "Instructions for updating:\n",
      "Please use `rate` instead of `keep_prob`. Rate should be set to `rate = 1 - keep_prob`.\n",
      "__________________________________________________________________________________________________\n",
      "Layer (type)                    Output Shape         Param #     Connected to                     \n",
      "==================================================================================================\n",
      "input_1 (InputLayer)            (None, 96, 96, 1)    0                                            \n",
      "__________________________________________________________________________________________________\n",
      "conv2d (Conv2D)                 (None, 96, 96, 32)   320         input_1[0][0]                    \n",
      "__________________________________________________________________________________________________\n",
      "dropout (Dropout)               (None, 96, 96, 32)   0           conv2d[0][0]                     \n",
      "__________________________________________________________________________________________________\n",
      "conv2d_1 (Conv2D)               (None, 96, 96, 32)   9248        dropout[0][0]                    \n",
      "__________________________________________________________________________________________________\n",
      "max_pooling2d (MaxPooling2D)    (None, 48, 48, 32)   0           conv2d_1[0][0]                   \n",
      "__________________________________________________________________________________________________\n",
      "conv2d_2 (Conv2D)               (None, 48, 48, 64)   18496       max_pooling2d[0][0]              \n",
      "__________________________________________________________________________________________________\n",
      "dropout_1 (Dropout)             (None, 48, 48, 64)   0           conv2d_2[0][0]                   \n",
      "__________________________________________________________________________________________________\n",
      "conv2d_3 (Conv2D)               (None, 48, 48, 64)   36928       dropout_1[0][0]                  \n",
      "__________________________________________________________________________________________________\n",
      "max_pooling2d_1 (MaxPooling2D)  (None, 24, 24, 64)   0           conv2d_3[0][0]                   \n",
      "__________________________________________________________________________________________________\n",
      "conv2d_4 (Conv2D)               (None, 24, 24, 128)  73856       max_pooling2d_1[0][0]            \n",
      "__________________________________________________________________________________________________\n",
      "dropout_2 (Dropout)             (None, 24, 24, 128)  0           conv2d_4[0][0]                   \n",
      "__________________________________________________________________________________________________\n",
      "conv2d_5 (Conv2D)               (None, 24, 24, 128)  147584      dropout_2[0][0]                  \n",
      "__________________________________________________________________________________________________\n",
      "max_pooling2d_2 (MaxPooling2D)  (None, 12, 12, 128)  0           conv2d_5[0][0]                   \n",
      "__________________________________________________________________________________________________\n",
      "conv2d_6 (Conv2D)               (None, 12, 12, 256)  295168      max_pooling2d_2[0][0]            \n",
      "__________________________________________________________________________________________________\n",
      "dropout_3 (Dropout)             (None, 12, 12, 256)  0           conv2d_6[0][0]                   \n",
      "__________________________________________________________________________________________________\n",
      "conv2d_7 (Conv2D)               (None, 12, 12, 256)  590080      dropout_3[0][0]                  \n",
      "__________________________________________________________________________________________________\n",
      "max_pooling2d_3 (MaxPooling2D)  (None, 6, 6, 256)    0           conv2d_7[0][0]                   \n",
      "__________________________________________________________________________________________________\n",
      "conv2d_8 (Conv2D)               (None, 6, 6, 512)    1180160     max_pooling2d_3[0][0]            \n",
      "__________________________________________________________________________________________________\n",
      "dropout_4 (Dropout)             (None, 6, 6, 512)    0           conv2d_8[0][0]                   \n",
      "__________________________________________________________________________________________________\n",
      "conv2d_9 (Conv2D)               (None, 6, 6, 512)    2359808     dropout_4[0][0]                  \n",
      "__________________________________________________________________________________________________\n",
      "conv2d_transpose (Conv2DTranspo (None, 12, 12, 256)  524544      conv2d_9[0][0]                   \n",
      "__________________________________________________________________________________________________\n",
      "concatenate (Concatenate)       (None, 12, 12, 512)  0           conv2d_transpose[0][0]           \n",
      "                                                                 conv2d_7[0][0]                   \n",
      "__________________________________________________________________________________________________\n",
      "conv2d_10 (Conv2D)              (None, 12, 12, 256)  1179904     concatenate[0][0]                \n",
      "__________________________________________________________________________________________________\n",
      "dropout_5 (Dropout)             (None, 12, 12, 256)  0           conv2d_10[0][0]                  \n",
      "__________________________________________________________________________________________________\n",
      "conv2d_11 (Conv2D)              (None, 12, 12, 256)  590080      dropout_5[0][0]                  \n",
      "__________________________________________________________________________________________________\n",
      "conv2d_transpose_1 (Conv2DTrans (None, 24, 24, 128)  131200      conv2d_11[0][0]                  \n",
      "__________________________________________________________________________________________________\n",
      "concatenate_1 (Concatenate)     (None, 24, 24, 256)  0           conv2d_transpose_1[0][0]         \n",
      "                                                                 conv2d_5[0][0]                   \n",
      "__________________________________________________________________________________________________\n",
      "conv2d_12 (Conv2D)              (None, 24, 24, 128)  295040      concatenate_1[0][0]              \n",
      "__________________________________________________________________________________________________\n",
      "dropout_6 (Dropout)             (None, 24, 24, 128)  0           conv2d_12[0][0]                  \n",
      "__________________________________________________________________________________________________\n",
      "conv2d_13 (Conv2D)              (None, 24, 24, 128)  147584      dropout_6[0][0]                  \n",
      "__________________________________________________________________________________________________\n",
      "conv2d_transpose_2 (Conv2DTrans (None, 48, 48, 64)   32832       conv2d_13[0][0]                  \n",
      "__________________________________________________________________________________________________\n",
      "concatenate_2 (Concatenate)     (None, 48, 48, 128)  0           conv2d_transpose_2[0][0]         \n",
      "                                                                 conv2d_3[0][0]                   \n",
      "__________________________________________________________________________________________________\n",
      "conv2d_14 (Conv2D)              (None, 48, 48, 64)   73792       concatenate_2[0][0]              \n",
      "__________________________________________________________________________________________________\n",
      "dropout_7 (Dropout)             (None, 48, 48, 64)   0           conv2d_14[0][0]                  \n",
      "__________________________________________________________________________________________________\n",
      "conv2d_15 (Conv2D)              (None, 48, 48, 64)   36928       dropout_7[0][0]                  \n",
      "__________________________________________________________________________________________________\n",
      "conv2d_transpose_3 (Conv2DTrans (None, 96, 96, 32)   8224        conv2d_15[0][0]                  \n",
      "__________________________________________________________________________________________________\n",
      "concatenate_3 (Concatenate)     (None, 96, 96, 64)   0           conv2d_transpose_3[0][0]         \n",
      "                                                                 conv2d_1[0][0]                   \n",
      "__________________________________________________________________________________________________\n",
      "conv2d_16 (Conv2D)              (None, 96, 96, 32)   18464       concatenate_3[0][0]              \n",
      "__________________________________________________________________________________________________\n",
      "dropout_8 (Dropout)             (None, 96, 96, 32)   0           conv2d_16[0][0]                  \n",
      "__________________________________________________________________________________________________\n",
      "conv2d_17 (Conv2D)              (None, 96, 96, 32)   9248        dropout_8[0][0]                  \n",
      "__________________________________________________________________________________________________\n",
      "conv2d_18 (Conv2D)              (None, 96, 96, 1)    33          conv2d_17[0][0]                  \n",
      "==================================================================================================\n",
      "Total params: 7,759,521\n",
      "Trainable params: 7,759,521\n",
      "Non-trainable params: 0\n",
      "__________________________________________________________________________________________________\n",
      "None\n"
     ]
    }
   ],
   "source": [
    "z = layers.Input((train_image_rows, train_image_cols, 1))\n",
    "unet = get_unet(z)"
   ]
  },
  {
   "cell_type": "code",
   "execution_count": 17,
   "metadata": {
    "scrolled": true
   },
   "outputs": [
    {
     "name": "stdout",
     "output_type": "stream",
     "text": [
      "_________________________________________________________________\n",
      "Layer (type)                 Output Shape              Param #   \n",
      "=================================================================\n",
      "input_1 (InputLayer)         (None, 96, 96, 1)         0         \n",
      "_________________________________________________________________\n",
      "conv2d_19 (Conv2D)           (None, 96, 96, 32)        320       \n",
      "_________________________________________________________________\n",
      "max_pooling2d_4 (MaxPooling2 (None, 48, 48, 32)        0         \n",
      "_________________________________________________________________\n",
      "conv2d_20 (Conv2D)           (None, 48, 48, 64)        18496     \n",
      "_________________________________________________________________\n",
      "max_pooling2d_5 (MaxPooling2 (None, 24, 24, 64)        0         \n",
      "_________________________________________________________________\n",
      "conv2d_21 (Conv2D)           (None, 24, 24, 128)       73856     \n",
      "_________________________________________________________________\n",
      "max_pooling2d_6 (MaxPooling2 (None, 12, 12, 128)       0         \n",
      "_________________________________________________________________\n",
      "conv2d_22 (Conv2D)           (None, 12, 12, 256)       295168    \n",
      "_________________________________________________________________\n",
      "max_pooling2d_7 (MaxPooling2 (None, 6, 6, 256)         0         \n",
      "_________________________________________________________________\n",
      "conv2d_23 (Conv2D)           (None, 6, 6, 512)         1180160   \n",
      "_________________________________________________________________\n",
      "conv2d_transpose_4 (Conv2DTr (None, 12, 12, 256)       524544    \n",
      "_________________________________________________________________\n",
      "conv2d_transpose_5 (Conv2DTr (None, 24, 24, 128)       131200    \n",
      "_________________________________________________________________\n",
      "conv2d_transpose_6 (Conv2DTr (None, 48, 48, 64)        32832     \n",
      "_________________________________________________________________\n",
      "conv2d_transpose_7 (Conv2DTr (None, 96, 96, 32)        8224      \n",
      "_________________________________________________________________\n",
      "conv2d_24 (Conv2D)           (None, 96, 96, 1)         33        \n",
      "=================================================================\n",
      "Total params: 2,264,833\n",
      "Trainable params: 2,264,833\n",
      "Non-trainable params: 0\n",
      "_________________________________________________________________\n",
      "None\n",
      "WARNING:tensorflow:From <ipython-input-13-06be6bdbb4c6>:5: to_int32 (from tensorflow.python.ops.math_ops) is deprecated and will be removed in a future version.\n",
      "Instructions for updating:\n",
      "Use tf.cast instead.\n",
      "WARNING:tensorflow:From d:\\Users\\AuFeCastle\\Anaconda3\\lib\\site-packages\\tensorflow\\python\\ops\\metrics_impl.py:259: to_int64 (from tensorflow.python.ops.math_ops) is deprecated and will be removed in a future version.\n",
      "Instructions for updating:\n",
      "Use tf.cast instead.\n",
      "WARNING:tensorflow:From d:\\Users\\AuFeCastle\\Anaconda3\\lib\\site-packages\\tensorflow\\python\\ops\\metrics_impl.py:1138: to_float (from tensorflow.python.ops.math_ops) is deprecated and will be removed in a future version.\n",
      "Instructions for updating:\n",
      "Use tf.cast instead.\n",
      "WARNING:tensorflow:From d:\\Users\\AuFeCastle\\Anaconda3\\lib\\site-packages\\tensorflow\\python\\ops\\metrics_impl.py:1155: div (from tensorflow.python.ops.math_ops) is deprecated and will be removed in a future version.\n",
      "Instructions for updating:\n",
      "Deprecated in favor of operator or tf.math.divide.\n"
     ]
    }
   ],
   "source": [
    "encod = auto_encoder(z)\n",
    "encod.compile(optimizer=tf.keras.optimizers.Adam(lr=.0001), loss=dice_coef_loss, metrics=[\n",
    "              dice_coef, mean_iou, 'accuracy', tf.keras.metrics.Precision(name='precision'), tf.keras.metrics.Recall(name='recall')])"
   ]
  },
  {
   "cell_type": "code",
   "execution_count": 18,
   "metadata": {},
   "outputs": [],
   "source": [
    "combined = Model(z, encod.output)\n",
    "combined.compile(optimizer=tf.keras.optimizers.Adam(lr=.0001),\n",
    "                  loss=dice_coef_loss, metrics=[\n",
    "              dice_coef, mean_iou, 'accuracy', tf.keras.metrics.Precision(name='precision'), tf.keras.metrics.Recall(name='recall')])"
   ]
  },
  {
   "cell_type": "code",
   "execution_count": 19,
   "metadata": {},
   "outputs": [],
   "source": [
    "from sklearn.model_selection import StratifiedKFold\n",
    "folds = list(StratifiedKFold(n_splits=5, shuffle=True,\n",
    "                             random_state=42).split(image_c[:, 0, 0], mask_c[:, 0, 0]))"
   ]
  },
  {
   "cell_type": "code",
   "execution_count": 20,
   "metadata": {},
   "outputs": [],
   "source": [
    "def get_callbacks(name_weights, patience_lr):\n",
    "    mcp_save = ModelCheckpoint(\n",
    "        name_weights, save_best_only=True, monitor='val_loss', mode='min')\n",
    "    reduce_lr_loss = ReduceLROnPlateau(\n",
    "        monitor='val_loss', factor=0.1, patience=patience_lr, verbose=1, min_delta=1e-5, mode='min')\n",
    "    early_stopping = EarlyStopping(\n",
    "        monitor='val_loss', min_delta=0, patience=10, verbose=1, mode='auto')\n",
    "\n",
    "    tb_hist = TensorBoard(log_dir='./logs',\n",
    "                          histogram_freq=0, write_grads=True, write_images=True)\n",
    "    return [mcp_save, reduce_lr_loss, early_stopping, tb_hist]"
   ]
  },
  {
   "cell_type": "code",
   "execution_count": 21,
   "metadata": {
    "scrolled": true
   },
   "outputs": [
    {
     "name": "stdout",
     "output_type": "stream",
     "text": [
      "\n",
      "Fold  0\n",
      "Train on 4508 samples, validate on 1127 samples\n",
      "Epoch 1/20\n",
      " - 23s - loss: 0.0078 - dice_coef: 0.0077 - mean_iou: 0.4877 - acc: 0.9709 - precision: 0.0151 - recall: 0.0210 - val_loss: 3.0322e-04 - val_dice_coef: 3.1417e-04 - val_mean_iou: 0.4938 - val_acc: 0.9876 - val_precision: 0.0000e+00 - val_recall: 0.0000e+00\n",
      "Epoch 2/20\n",
      " - 7s - loss: 2.9670e-04 - dice_coef: 2.9669e-04 - mean_iou: 0.4940 - acc: 0.9876 - precision: 0.0000e+00 - recall: 0.0000e+00 - val_loss: 3.1609e-04 - val_dice_coef: 3.9596e-04 - val_mean_iou: 0.4940 - val_acc: 0.9876 - val_precision: 0.0000e+00 - val_recall: 0.0000e+00\n",
      "Epoch 3/20\n",
      " - 8s - loss: 2.9566e-04 - dice_coef: 2.9573e-04 - mean_iou: 0.4941 - acc: 0.9876 - precision: 0.0000e+00 - recall: 0.0000e+00 - val_loss: 3.0568e-04 - val_dice_coef: 3.4470e-04 - val_mean_iou: 0.4941 - val_acc: 0.9876 - val_precision: 0.0000e+00 - val_recall: 0.0000e+00\n",
      "Epoch 4/20\n",
      " - 7s - loss: 3.0118e-04 - dice_coef: 3.0153e-04 - mean_iou: 0.4941 - acc: 0.9876 - precision: 0.0000e+00 - recall: 0.0000e+00 - val_loss: 3.0355e-04 - val_dice_coef: 3.4553e-04 - val_mean_iou: 0.4941 - val_acc: 0.9876 - val_precision: 0.0000e+00 - val_recall: 0.0000e+00\n",
      "Epoch 5/20\n",
      " - 8s - loss: 2.9961e-04 - dice_coef: 2.9962e-04 - mean_iou: 0.4941 - acc: 0.9876 - precision: 0.0000e+00 - recall: 0.0000e+00 - val_loss: 2.9632e-04 - val_dice_coef: 3.1469e-04 - val_mean_iou: 0.4941 - val_acc: 0.9876 - val_precision: 0.0000e+00 - val_recall: 0.0000e+00\n",
      "Epoch 6/20\n",
      " - 9s - loss: 2.9642e-04 - dice_coef: 2.9641e-04 - mean_iou: 0.4941 - acc: 0.9876 - precision: 0.0000e+00 - recall: 0.0000e+00 - val_loss: 2.9587e-04 - val_dice_coef: 3.0457e-04 - val_mean_iou: 0.4941 - val_acc: 0.9876 - val_precision: 0.0000e+00 - val_recall: 0.0000e+00\n",
      "Epoch 7/20\n",
      " - 8s - loss: 2.9846e-04 - dice_coef: 2.9849e-04 - mean_iou: 0.4941 - acc: 0.9876 - precision: 0.0000e+00 - recall: 0.0000e+00 - val_loss: 3.0871e-04 - val_dice_coef: 3.5194e-04 - val_mean_iou: 0.4941 - val_acc: 0.9876 - val_precision: 0.0000e+00 - val_recall: 0.0000e+00\n",
      "Epoch 8/20\n",
      " - 8s - loss: 2.9414e-04 - dice_coef: 2.9418e-04 - mean_iou: 0.4941 - acc: 0.9876 - precision: 0.0000e+00 - recall: 0.0000e+00 - val_loss: 3.0141e-04 - val_dice_coef: 3.1825e-04 - val_mean_iou: 0.4941 - val_acc: 0.9876 - val_precision: 0.0000e+00 - val_recall: 0.0000e+00\n",
      "Epoch 9/20\n",
      " - 8s - loss: 2.9127e-04 - dice_coef: 2.9125e-04 - mean_iou: 0.4941 - acc: 0.9876 - precision: 0.0000e+00 - recall: 0.0000e+00 - val_loss: 3.0500e-04 - val_dice_coef: 3.3266e-04 - val_mean_iou: 0.4941 - val_acc: 0.9876 - val_precision: 0.0000e+00 - val_recall: 0.0000e+00\n",
      "Epoch 10/20\n",
      " - 7s - loss: 2.9597e-04 - dice_coef: 2.9603e-04 - mean_iou: 0.4941 - acc: 0.9876 - precision: 0.0000e+00 - recall: 0.0000e+00 - val_loss: 3.0807e-04 - val_dice_coef: 3.4740e-04 - val_mean_iou: 0.4941 - val_acc: 0.9876 - val_precision: 0.0000e+00 - val_recall: 0.0000e+00\n",
      "Epoch 11/20\n",
      "\n",
      "Epoch 00011: ReduceLROnPlateau reducing learning rate to 9.999999747378752e-06.\n",
      " - 8s - loss: 2.9702e-04 - dice_coef: 2.9697e-04 - mean_iou: 0.4941 - acc: 0.9876 - precision: 0.0000e+00 - recall: 0.0000e+00 - val_loss: 2.9861e-04 - val_dice_coef: 3.2324e-04 - val_mean_iou: 0.4941 - val_acc: 0.9876 - val_precision: 0.0000e+00 - val_recall: 0.0000e+00\n",
      "Epoch 12/20\n",
      " - 7s - loss: 2.9812e-04 - dice_coef: 2.9806e-04 - mean_iou: 0.4941 - acc: 0.9876 - precision: 0.0000e+00 - recall: 0.0000e+00 - val_loss: 2.9771e-04 - val_dice_coef: 3.1197e-04 - val_mean_iou: 0.4941 - val_acc: 0.9876 - val_precision: 0.0000e+00 - val_recall: 0.0000e+00\n",
      "Epoch 13/20\n",
      " - 7s - loss: 2.9488e-04 - dice_coef: 2.9484e-04 - mean_iou: 0.4941 - acc: 0.9876 - precision: 0.0000e+00 - recall: 0.0000e+00 - val_loss: 3.0138e-04 - val_dice_coef: 3.1816e-04 - val_mean_iou: 0.4941 - val_acc: 0.9876 - val_precision: 0.0000e+00 - val_recall: 0.0000e+00\n",
      "Epoch 14/20\n",
      " - 7s - loss: 2.9603e-04 - dice_coef: 2.9608e-04 - mean_iou: 0.4941 - acc: 0.9876 - precision: 0.0000e+00 - recall: 0.0000e+00 - val_loss: 3.0153e-04 - val_dice_coef: 3.2844e-04 - val_mean_iou: 0.4941 - val_acc: 0.9876 - val_precision: 0.0000e+00 - val_recall: 0.0000e+00\n",
      "Epoch 15/20\n",
      " - 7s - loss: 3.0095e-04 - dice_coef: 3.0088e-04 - mean_iou: 0.4941 - acc: 0.9876 - precision: 0.0000e+00 - recall: 0.0000e+00 - val_loss: 3.0194e-04 - val_dice_coef: 3.3755e-04 - val_mean_iou: 0.4941 - val_acc: 0.9876 - val_precision: 0.0000e+00 - val_recall: 0.0000e+00\n",
      "Epoch 16/20\n",
      " - 7s - loss: 3.0064e-04 - dice_coef: 3.0061e-04 - mean_iou: 0.4941 - acc: 0.9876 - precision: 0.0000e+00 - recall: 0.0000e+00 - val_loss: 0.0065 - val_dice_coef: 0.0280 - val_mean_iou: 0.4941 - val_acc: 0.9876 - val_precision: 0.0000e+00 - val_recall: 0.0000e+00\n",
      "Epoch 00016: early stopping\n"
     ]
    }
   ],
   "source": [
    "import pandas as pd\n",
    "for j, (train_idx, val_idx) in enumerate(folds):\n",
    "    now = time.localtime()\n",
    "    s = \"%02d-%02d-%02d_%02d;%02d\" % (now.tm_year-2000,\n",
    "                                      now.tm_mon, now.tm_mday, now.tm_hour, now.tm_min)\n",
    "    #unet = get_unet()\n",
    "    print('\\nFold ', j)\n",
    "    image_train_cv = image_c[train_idx]\n",
    "    mask_train_cv = mask_c[train_idx]\n",
    "    image_valid_cv = image_c[val_idx]\n",
    "    mask_valid_cv = mask_c[val_idx]\n",
    "\n",
    "    name_weights = \"./LEE_final_model_fold_\" + \\\n",
    "        str(j) + str(winodw_size) + \"_weights.h5\"\n",
    "    callbackk = get_callbacks(name_weights=name_weights, patience_lr=10)\n",
    "\n",
    "    history = combined.fit(image_train_cv, mask_train_cv, epochs=20, verbose=2, shuffle=True, validation_data=(\n",
    "        image_valid_cv, mask_valid_cv), batch_size=32, callbacks=callbackk)\n",
    "\n",
    "    if history.history['dice_coef'][-1] < 0.05:\n",
    "        break\n",
    "    df = pd.DataFrame({\"loss\": history.history['loss'],\n",
    "                       \"val_loss\": history.history['val_loss'],\n",
    "                       \"mean_iou\": history.history['mean_iou'],\n",
    "                       \"val_mean_iou\": history.history['val_mean_iou'],\n",
    "                       \"dice_coef\": history.history['dice_coef'],\n",
    "                       \"val_dice_coef\": history.history['val_dice_coef'],\n",
    "                       \"precision\": history.history['precision'],\n",
    "                       \"val_precision\": history.history['val_precision'],\n",
    "                       \"recall\": history.history['recall'],\n",
    "                       \"val_recall\": history.history['val_recall']})\n",
    "    df.to_csv(\n",
    "        './history_{:2.3}_{}.csv'.format(history.history['val_dice_coef'][-1], s))\n",
    "    print(combined.evaluate(image_valid_cv, mask_valid_cv, verbose=2))"
   ]
  },
  {
   "cell_type": "code",
   "execution_count": 108,
   "metadata": {
    "deletable": false,
    "editable": false,
    "run_control": {
     "frozen": true
    }
   },
   "outputs": [],
   "source": [
    "np.save('./image_FROST_11',image_c)"
   ]
  },
  {
   "cell_type": "code",
   "execution_count": 22,
   "metadata": {},
   "outputs": [
    {
     "name": "stdout",
     "output_type": "stream",
     "text": [
      "1127/1127 [==============================] - ETA: 1: - ETA: 34s - ETA: 20 - ETA: 13 - ETA: 9 - ETA:  - ETA:  - ETA:  - ETA:  - ETA:  - ETA:  - ETA:  - ETA:  - ETA:  - ETA:  - ETA:  - ETA:  - ETA:  - 4s 4ms/sample\n"
     ]
    }
   ],
   "source": [
    "mask_predict = unet.predict(image_valid_cv, verbose=1)"
   ]
  },
  {
   "cell_type": "code",
   "execution_count": 23,
   "metadata": {},
   "outputs": [],
   "source": [
    "mask_r = mask_predict.reshape(1127, 96, 96)\n",
    "mask_test_u = mask_valid_cv.reshape(1127, 96, 96)\n",
    "image_test_u = image_valid_cv.reshape(1127, 96, 96)"
   ]
  },
  {
   "cell_type": "code",
   "execution_count": 24,
   "metadata": {},
   "outputs": [],
   "source": [
    "img_test_o = (mask_r*2)+image_test_u\n",
    "img_predict_o =image_test_u+(mask_test_u*2)"
   ]
  },
  {
   "cell_type": "code",
   "execution_count": 25,
   "metadata": {},
   "outputs": [
    {
     "data": {
      "image/png": "[encoded data removed]",
      "text/plain": [
       "<Figure size 432x288 with 1 Axes>"
      ]
     },
     "metadata": {
      "needs_background": "light"
     },
     "output_type": "display_data"
    },
    {
     "data": {
      "image/png": "[encoded data removed]",
      "text/plain": [
       "<Figure size 432x288 with 1 Axes>"
      ]
     },
     "metadata": {
      "needs_background": "light"
     },
     "output_type": "display_data"
    },
    {
     "data": {
      "image/png": "[encoded data removed]",
      "text/plain": [
       "<Figure size 432x288 with 1 Axes>"
      ]
     },
     "metadata": {
      "needs_background": "light"
     },
     "output_type": "display_data"
    },
    {
     "data": {
      "image/png": "[encoded data removed]",
      "text/plain": [
       "<Figure size 432x288 with 1 Axes>"
      ]
     },
     "metadata": {
      "needs_background": "light"
     },
     "output_type": "display_data"
    }
   ],
   "source": [
    "plt.figure()\n",
    "plt.imshow(mask_test_u[35], cmap='gray')\n",
    "plt.show()\n",
    "\n",
    "plt.figure()\n",
    "plt.imshow( mask_r[35], cmap='gray')\n",
    "plt.show()\n",
    "\n",
    "plt.figure()\n",
    "plt.imshow(img_test_o[35], cmap='gray')\n",
    "plt.show()\n",
    "\n",
    "plt.figure()\n",
    "plt.imshow(img_predict_o[35], cmap='gray')\n",
    "plt.show()"
   ]
  },
  {
   "cell_type": "code",
   "execution_count": null,
   "metadata": {},
   "outputs": [],
   "source": []
  }
 ],
 "metadata": {
  "gist": {
   "data": {
    "description": "qwer/Untitled1.ipynb",
    "public": false
   },
   "id": ""
  },
  "kernelspec": {
   "display_name": "Python 3",
   "language": "python",
   "name": "python3"
  },
  "language_info": {
   "codemirror_mode": {
    "name": "ipython",
    "version": 3
   },
   "file_extension": ".py",
   "mimetype": "text/x-python",
   "name": "python",
   "nbconvert_exporter": "python",
   "pygments_lexer": "ipython3",
   "version": "3.7.8"
  },
  "latex_envs": {
   "LaTeX_envs_menu_present": true,
   "autoclose": false,
   "autocomplete": true,
   "bibliofile": "biblio.bib",
   "cite_by": "apalike",
   "current_citInitial": 1,
   "eqLabelWithNumbers": true,
   "eqNumInitial": 1,
   "hotkeys": {
    "equation": "Ctrl-E",
    "itemize": "Ctrl-I"
   },
   "labels_anchors": false,
   "latex_user_defs": false,
   "report_style_numbering": false,
   "user_envs_cfg": false
  },
  "varInspector": {
   "cols": {
    "lenName": 16,
    "lenType": 16,
    "lenVar": 40
   },
   "kernels_config": {
    "python": {
     "delete_cmd_postfix": "",
     "delete_cmd_prefix": "del ",
     "library": "var_list.py",
     "varRefreshCmd": "print(var_dic_list())"
    },
    "r": {
     "delete_cmd_postfix": ") ",
     "delete_cmd_prefix": "rm(",
     "library": "var_list.r",
     "varRefreshCmd": "cat(var_dic_list()) "
    }
   },
   "oldHeight": 436,
   "position": {
    "height": "40px",
    "left": "1507px",
    "right": "20px",
    "top": "120px",
    "width": "350px"
   },
   "types_to_exclude": [
    "module",
    "function",
    "builtin_function_or_method",
    "instance",
    "_Feature"
   ],
   "varInspector_section_display": "none",
   "window_display": true
  }
 },
 "nbformat": 4,
 "nbformat_minor": 2
}
